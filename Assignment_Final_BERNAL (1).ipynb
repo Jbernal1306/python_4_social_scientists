{
  "nbformat": 4,
  "nbformat_minor": 0,
  "metadata": {
    "colab": {
      "provenance": []
    },
    "kernelspec": {
      "name": "python3",
      "display_name": "Python 3"
    },
    "language_info": {
      "name": "python"
    },
    "widgets": {
      "application/vnd.jupyter.widget-state+json": {
        "3b3f3503fae440b09fe9ee726163cb7d": {
          "model_module": "@jupyter-widgets/controls",
          "model_name": "HBoxModel",
          "model_module_version": "1.5.0",
          "state": {
            "_dom_classes": [],
            "_model_module": "@jupyter-widgets/controls",
            "_model_module_version": "1.5.0",
            "_model_name": "HBoxModel",
            "_view_count": null,
            "_view_module": "@jupyter-widgets/controls",
            "_view_module_version": "1.5.0",
            "_view_name": "HBoxView",
            "box_style": "",
            "children": [
              "IPY_MODEL_ec04ae650f4249f693da20287d0482b9",
              "IPY_MODEL_427bae021199449cbbb4632c7304eaf8",
              "IPY_MODEL_017248d5ca2c42fbbdcbc7058a92ec1f"
            ],
            "layout": "IPY_MODEL_4682fb0af6b54b9096dc11f75d295761"
          }
        },
        "ec04ae650f4249f693da20287d0482b9": {
          "model_module": "@jupyter-widgets/controls",
          "model_name": "HTMLModel",
          "model_module_version": "1.5.0",
          "state": {
            "_dom_classes": [],
            "_model_module": "@jupyter-widgets/controls",
            "_model_module_version": "1.5.0",
            "_model_name": "HTMLModel",
            "_view_count": null,
            "_view_module": "@jupyter-widgets/controls",
            "_view_module_version": "1.5.0",
            "_view_name": "HTMLView",
            "description": "",
            "description_tooltip": null,
            "layout": "IPY_MODEL_43c49c3c68dd48eb855902ee8bf1a519",
            "placeholder": "​",
            "style": "IPY_MODEL_3a5061531b6f4e0eb9a1b3d8c6aa2fb4",
            "value": ""
          }
        },
        "427bae021199449cbbb4632c7304eaf8": {
          "model_module": "@jupyter-widgets/controls",
          "model_name": "FloatProgressModel",
          "model_module_version": "1.5.0",
          "state": {
            "_dom_classes": [],
            "_model_module": "@jupyter-widgets/controls",
            "_model_module_version": "1.5.0",
            "_model_name": "FloatProgressModel",
            "_view_count": null,
            "_view_module": "@jupyter-widgets/controls",
            "_view_module_version": "1.5.0",
            "_view_name": "ProgressView",
            "bar_style": "success",
            "description": "",
            "description_tooltip": null,
            "layout": "IPY_MODEL_3eeb82284f244b2987fbb1c48950e6d7",
            "max": 1,
            "min": 0,
            "orientation": "horizontal",
            "style": "IPY_MODEL_8130493a8ce644f48eae7baac9723b15",
            "value": 1
          }
        },
        "017248d5ca2c42fbbdcbc7058a92ec1f": {
          "model_module": "@jupyter-widgets/controls",
          "model_name": "HTMLModel",
          "model_module_version": "1.5.0",
          "state": {
            "_dom_classes": [],
            "_model_module": "@jupyter-widgets/controls",
            "_model_module_version": "1.5.0",
            "_model_name": "HTMLModel",
            "_view_count": null,
            "_view_module": "@jupyter-widgets/controls",
            "_view_module_version": "1.5.0",
            "_view_name": "HTMLView",
            "description": "",
            "description_tooltip": null,
            "layout": "IPY_MODEL_c3307e299bef4dbe9f56680f38b442ec",
            "placeholder": "​",
            "style": "IPY_MODEL_3948e1cee0b5458d858b64263ea694bc",
            "value": " 611/? [00:01&lt;00:00, 380.35it/s]"
          }
        },
        "4682fb0af6b54b9096dc11f75d295761": {
          "model_module": "@jupyter-widgets/base",
          "model_name": "LayoutModel",
          "model_module_version": "1.2.0",
          "state": {
            "_model_module": "@jupyter-widgets/base",
            "_model_module_version": "1.2.0",
            "_model_name": "LayoutModel",
            "_view_count": null,
            "_view_module": "@jupyter-widgets/base",
            "_view_module_version": "1.2.0",
            "_view_name": "LayoutView",
            "align_content": null,
            "align_items": null,
            "align_self": null,
            "border": null,
            "bottom": null,
            "display": null,
            "flex": null,
            "flex_flow": null,
            "grid_area": null,
            "grid_auto_columns": null,
            "grid_auto_flow": null,
            "grid_auto_rows": null,
            "grid_column": null,
            "grid_gap": null,
            "grid_row": null,
            "grid_template_areas": null,
            "grid_template_columns": null,
            "grid_template_rows": null,
            "height": null,
            "justify_content": null,
            "justify_items": null,
            "left": null,
            "margin": null,
            "max_height": null,
            "max_width": null,
            "min_height": null,
            "min_width": null,
            "object_fit": null,
            "object_position": null,
            "order": null,
            "overflow": null,
            "overflow_x": null,
            "overflow_y": null,
            "padding": null,
            "right": null,
            "top": null,
            "visibility": null,
            "width": null
          }
        },
        "43c49c3c68dd48eb855902ee8bf1a519": {
          "model_module": "@jupyter-widgets/base",
          "model_name": "LayoutModel",
          "model_module_version": "1.2.0",
          "state": {
            "_model_module": "@jupyter-widgets/base",
            "_model_module_version": "1.2.0",
            "_model_name": "LayoutModel",
            "_view_count": null,
            "_view_module": "@jupyter-widgets/base",
            "_view_module_version": "1.2.0",
            "_view_name": "LayoutView",
            "align_content": null,
            "align_items": null,
            "align_self": null,
            "border": null,
            "bottom": null,
            "display": null,
            "flex": null,
            "flex_flow": null,
            "grid_area": null,
            "grid_auto_columns": null,
            "grid_auto_flow": null,
            "grid_auto_rows": null,
            "grid_column": null,
            "grid_gap": null,
            "grid_row": null,
            "grid_template_areas": null,
            "grid_template_columns": null,
            "grid_template_rows": null,
            "height": null,
            "justify_content": null,
            "justify_items": null,
            "left": null,
            "margin": null,
            "max_height": null,
            "max_width": null,
            "min_height": null,
            "min_width": null,
            "object_fit": null,
            "object_position": null,
            "order": null,
            "overflow": null,
            "overflow_x": null,
            "overflow_y": null,
            "padding": null,
            "right": null,
            "top": null,
            "visibility": null,
            "width": null
          }
        },
        "3a5061531b6f4e0eb9a1b3d8c6aa2fb4": {
          "model_module": "@jupyter-widgets/controls",
          "model_name": "DescriptionStyleModel",
          "model_module_version": "1.5.0",
          "state": {
            "_model_module": "@jupyter-widgets/controls",
            "_model_module_version": "1.5.0",
            "_model_name": "DescriptionStyleModel",
            "_view_count": null,
            "_view_module": "@jupyter-widgets/base",
            "_view_module_version": "1.2.0",
            "_view_name": "StyleView",
            "description_width": ""
          }
        },
        "3eeb82284f244b2987fbb1c48950e6d7": {
          "model_module": "@jupyter-widgets/base",
          "model_name": "LayoutModel",
          "model_module_version": "1.2.0",
          "state": {
            "_model_module": "@jupyter-widgets/base",
            "_model_module_version": "1.2.0",
            "_model_name": "LayoutModel",
            "_view_count": null,
            "_view_module": "@jupyter-widgets/base",
            "_view_module_version": "1.2.0",
            "_view_name": "LayoutView",
            "align_content": null,
            "align_items": null,
            "align_self": null,
            "border": null,
            "bottom": null,
            "display": null,
            "flex": null,
            "flex_flow": null,
            "grid_area": null,
            "grid_auto_columns": null,
            "grid_auto_flow": null,
            "grid_auto_rows": null,
            "grid_column": null,
            "grid_gap": null,
            "grid_row": null,
            "grid_template_areas": null,
            "grid_template_columns": null,
            "grid_template_rows": null,
            "height": null,
            "justify_content": null,
            "justify_items": null,
            "left": null,
            "margin": null,
            "max_height": null,
            "max_width": null,
            "min_height": null,
            "min_width": null,
            "object_fit": null,
            "object_position": null,
            "order": null,
            "overflow": null,
            "overflow_x": null,
            "overflow_y": null,
            "padding": null,
            "right": null,
            "top": null,
            "visibility": null,
            "width": "20px"
          }
        },
        "8130493a8ce644f48eae7baac9723b15": {
          "model_module": "@jupyter-widgets/controls",
          "model_name": "ProgressStyleModel",
          "model_module_version": "1.5.0",
          "state": {
            "_model_module": "@jupyter-widgets/controls",
            "_model_module_version": "1.5.0",
            "_model_name": "ProgressStyleModel",
            "_view_count": null,
            "_view_module": "@jupyter-widgets/base",
            "_view_module_version": "1.2.0",
            "_view_name": "StyleView",
            "bar_color": null,
            "description_width": ""
          }
        },
        "c3307e299bef4dbe9f56680f38b442ec": {
          "model_module": "@jupyter-widgets/base",
          "model_name": "LayoutModel",
          "model_module_version": "1.2.0",
          "state": {
            "_model_module": "@jupyter-widgets/base",
            "_model_module_version": "1.2.0",
            "_model_name": "LayoutModel",
            "_view_count": null,
            "_view_module": "@jupyter-widgets/base",
            "_view_module_version": "1.2.0",
            "_view_name": "LayoutView",
            "align_content": null,
            "align_items": null,
            "align_self": null,
            "border": null,
            "bottom": null,
            "display": null,
            "flex": null,
            "flex_flow": null,
            "grid_area": null,
            "grid_auto_columns": null,
            "grid_auto_flow": null,
            "grid_auto_rows": null,
            "grid_column": null,
            "grid_gap": null,
            "grid_row": null,
            "grid_template_areas": null,
            "grid_template_columns": null,
            "grid_template_rows": null,
            "height": null,
            "justify_content": null,
            "justify_items": null,
            "left": null,
            "margin": null,
            "max_height": null,
            "max_width": null,
            "min_height": null,
            "min_width": null,
            "object_fit": null,
            "object_position": null,
            "order": null,
            "overflow": null,
            "overflow_x": null,
            "overflow_y": null,
            "padding": null,
            "right": null,
            "top": null,
            "visibility": null,
            "width": null
          }
        },
        "3948e1cee0b5458d858b64263ea694bc": {
          "model_module": "@jupyter-widgets/controls",
          "model_name": "DescriptionStyleModel",
          "model_module_version": "1.5.0",
          "state": {
            "_model_module": "@jupyter-widgets/controls",
            "_model_module_version": "1.5.0",
            "_model_name": "DescriptionStyleModel",
            "_view_count": null,
            "_view_module": "@jupyter-widgets/base",
            "_view_module_version": "1.2.0",
            "_view_name": "StyleView",
            "description_width": ""
          }
        },
        "1dc0ba637b51467e9750b39f6358f874": {
          "model_module": "@jupyter-widgets/controls",
          "model_name": "HBoxModel",
          "model_module_version": "1.5.0",
          "state": {
            "_dom_classes": [],
            "_model_module": "@jupyter-widgets/controls",
            "_model_module_version": "1.5.0",
            "_model_name": "HBoxModel",
            "_view_count": null,
            "_view_module": "@jupyter-widgets/controls",
            "_view_module_version": "1.5.0",
            "_view_name": "HBoxView",
            "box_style": "",
            "children": [
              "IPY_MODEL_4ddd55d997ee4a408f718d42903489f6",
              "IPY_MODEL_54b7b505c79b44e3a08fcaf94cb3eddd",
              "IPY_MODEL_f41883ae10f74fb2bcd842f22dd402d5"
            ],
            "layout": "IPY_MODEL_08bed5eadfe14e96841c2d9059e7e214"
          }
        },
        "4ddd55d997ee4a408f718d42903489f6": {
          "model_module": "@jupyter-widgets/controls",
          "model_name": "HTMLModel",
          "model_module_version": "1.5.0",
          "state": {
            "_dom_classes": [],
            "_model_module": "@jupyter-widgets/controls",
            "_model_module_version": "1.5.0",
            "_model_name": "HTMLModel",
            "_view_count": null,
            "_view_module": "@jupyter-widgets/controls",
            "_view_module_version": "1.5.0",
            "_view_name": "HTMLView",
            "description": "",
            "description_tooltip": null,
            "layout": "IPY_MODEL_2a0294f8200c4e4aad2b8cbc51bc3a99",
            "placeholder": "​",
            "style": "IPY_MODEL_28b1fa4822e14aaa9592a272be7a8440",
            "value": ""
          }
        },
        "54b7b505c79b44e3a08fcaf94cb3eddd": {
          "model_module": "@jupyter-widgets/controls",
          "model_name": "FloatProgressModel",
          "model_module_version": "1.5.0",
          "state": {
            "_dom_classes": [],
            "_model_module": "@jupyter-widgets/controls",
            "_model_module_version": "1.5.0",
            "_model_name": "FloatProgressModel",
            "_view_count": null,
            "_view_module": "@jupyter-widgets/controls",
            "_view_module_version": "1.5.0",
            "_view_name": "ProgressView",
            "bar_style": "success",
            "description": "",
            "description_tooltip": null,
            "layout": "IPY_MODEL_a8b0f1ec761b45e185f27647b1bc0d84",
            "max": 1,
            "min": 0,
            "orientation": "horizontal",
            "style": "IPY_MODEL_d02ec563bdfe4aeea0ef1fa3aca525f3",
            "value": 1
          }
        },
        "f41883ae10f74fb2bcd842f22dd402d5": {
          "model_module": "@jupyter-widgets/controls",
          "model_name": "HTMLModel",
          "model_module_version": "1.5.0",
          "state": {
            "_dom_classes": [],
            "_model_module": "@jupyter-widgets/controls",
            "_model_module_version": "1.5.0",
            "_model_name": "HTMLModel",
            "_view_count": null,
            "_view_module": "@jupyter-widgets/controls",
            "_view_module_version": "1.5.0",
            "_view_name": "HTMLView",
            "description": "",
            "description_tooltip": null,
            "layout": "IPY_MODEL_d7860b74426749cfab516c8995b7e42b",
            "placeholder": "​",
            "style": "IPY_MODEL_2229b64faa784c99ad9446a904d0e2ba",
            "value": " 611/? [00:02&lt;00:00, 271.77it/s]"
          }
        },
        "08bed5eadfe14e96841c2d9059e7e214": {
          "model_module": "@jupyter-widgets/base",
          "model_name": "LayoutModel",
          "model_module_version": "1.2.0",
          "state": {
            "_model_module": "@jupyter-widgets/base",
            "_model_module_version": "1.2.0",
            "_model_name": "LayoutModel",
            "_view_count": null,
            "_view_module": "@jupyter-widgets/base",
            "_view_module_version": "1.2.0",
            "_view_name": "LayoutView",
            "align_content": null,
            "align_items": null,
            "align_self": null,
            "border": null,
            "bottom": null,
            "display": null,
            "flex": null,
            "flex_flow": null,
            "grid_area": null,
            "grid_auto_columns": null,
            "grid_auto_flow": null,
            "grid_auto_rows": null,
            "grid_column": null,
            "grid_gap": null,
            "grid_row": null,
            "grid_template_areas": null,
            "grid_template_columns": null,
            "grid_template_rows": null,
            "height": null,
            "justify_content": null,
            "justify_items": null,
            "left": null,
            "margin": null,
            "max_height": null,
            "max_width": null,
            "min_height": null,
            "min_width": null,
            "object_fit": null,
            "object_position": null,
            "order": null,
            "overflow": null,
            "overflow_x": null,
            "overflow_y": null,
            "padding": null,
            "right": null,
            "top": null,
            "visibility": null,
            "width": null
          }
        },
        "2a0294f8200c4e4aad2b8cbc51bc3a99": {
          "model_module": "@jupyter-widgets/base",
          "model_name": "LayoutModel",
          "model_module_version": "1.2.0",
          "state": {
            "_model_module": "@jupyter-widgets/base",
            "_model_module_version": "1.2.0",
            "_model_name": "LayoutModel",
            "_view_count": null,
            "_view_module": "@jupyter-widgets/base",
            "_view_module_version": "1.2.0",
            "_view_name": "LayoutView",
            "align_content": null,
            "align_items": null,
            "align_self": null,
            "border": null,
            "bottom": null,
            "display": null,
            "flex": null,
            "flex_flow": null,
            "grid_area": null,
            "grid_auto_columns": null,
            "grid_auto_flow": null,
            "grid_auto_rows": null,
            "grid_column": null,
            "grid_gap": null,
            "grid_row": null,
            "grid_template_areas": null,
            "grid_template_columns": null,
            "grid_template_rows": null,
            "height": null,
            "justify_content": null,
            "justify_items": null,
            "left": null,
            "margin": null,
            "max_height": null,
            "max_width": null,
            "min_height": null,
            "min_width": null,
            "object_fit": null,
            "object_position": null,
            "order": null,
            "overflow": null,
            "overflow_x": null,
            "overflow_y": null,
            "padding": null,
            "right": null,
            "top": null,
            "visibility": null,
            "width": null
          }
        },
        "28b1fa4822e14aaa9592a272be7a8440": {
          "model_module": "@jupyter-widgets/controls",
          "model_name": "DescriptionStyleModel",
          "model_module_version": "1.5.0",
          "state": {
            "_model_module": "@jupyter-widgets/controls",
            "_model_module_version": "1.5.0",
            "_model_name": "DescriptionStyleModel",
            "_view_count": null,
            "_view_module": "@jupyter-widgets/base",
            "_view_module_version": "1.2.0",
            "_view_name": "StyleView",
            "description_width": ""
          }
        },
        "a8b0f1ec761b45e185f27647b1bc0d84": {
          "model_module": "@jupyter-widgets/base",
          "model_name": "LayoutModel",
          "model_module_version": "1.2.0",
          "state": {
            "_model_module": "@jupyter-widgets/base",
            "_model_module_version": "1.2.0",
            "_model_name": "LayoutModel",
            "_view_count": null,
            "_view_module": "@jupyter-widgets/base",
            "_view_module_version": "1.2.0",
            "_view_name": "LayoutView",
            "align_content": null,
            "align_items": null,
            "align_self": null,
            "border": null,
            "bottom": null,
            "display": null,
            "flex": null,
            "flex_flow": null,
            "grid_area": null,
            "grid_auto_columns": null,
            "grid_auto_flow": null,
            "grid_auto_rows": null,
            "grid_column": null,
            "grid_gap": null,
            "grid_row": null,
            "grid_template_areas": null,
            "grid_template_columns": null,
            "grid_template_rows": null,
            "height": null,
            "justify_content": null,
            "justify_items": null,
            "left": null,
            "margin": null,
            "max_height": null,
            "max_width": null,
            "min_height": null,
            "min_width": null,
            "object_fit": null,
            "object_position": null,
            "order": null,
            "overflow": null,
            "overflow_x": null,
            "overflow_y": null,
            "padding": null,
            "right": null,
            "top": null,
            "visibility": null,
            "width": "20px"
          }
        },
        "d02ec563bdfe4aeea0ef1fa3aca525f3": {
          "model_module": "@jupyter-widgets/controls",
          "model_name": "ProgressStyleModel",
          "model_module_version": "1.5.0",
          "state": {
            "_model_module": "@jupyter-widgets/controls",
            "_model_module_version": "1.5.0",
            "_model_name": "ProgressStyleModel",
            "_view_count": null,
            "_view_module": "@jupyter-widgets/base",
            "_view_module_version": "1.2.0",
            "_view_name": "StyleView",
            "bar_color": null,
            "description_width": ""
          }
        },
        "d7860b74426749cfab516c8995b7e42b": {
          "model_module": "@jupyter-widgets/base",
          "model_name": "LayoutModel",
          "model_module_version": "1.2.0",
          "state": {
            "_model_module": "@jupyter-widgets/base",
            "_model_module_version": "1.2.0",
            "_model_name": "LayoutModel",
            "_view_count": null,
            "_view_module": "@jupyter-widgets/base",
            "_view_module_version": "1.2.0",
            "_view_name": "LayoutView",
            "align_content": null,
            "align_items": null,
            "align_self": null,
            "border": null,
            "bottom": null,
            "display": null,
            "flex": null,
            "flex_flow": null,
            "grid_area": null,
            "grid_auto_columns": null,
            "grid_auto_flow": null,
            "grid_auto_rows": null,
            "grid_column": null,
            "grid_gap": null,
            "grid_row": null,
            "grid_template_areas": null,
            "grid_template_columns": null,
            "grid_template_rows": null,
            "height": null,
            "justify_content": null,
            "justify_items": null,
            "left": null,
            "margin": null,
            "max_height": null,
            "max_width": null,
            "min_height": null,
            "min_width": null,
            "object_fit": null,
            "object_position": null,
            "order": null,
            "overflow": null,
            "overflow_x": null,
            "overflow_y": null,
            "padding": null,
            "right": null,
            "top": null,
            "visibility": null,
            "width": null
          }
        },
        "2229b64faa784c99ad9446a904d0e2ba": {
          "model_module": "@jupyter-widgets/controls",
          "model_name": "DescriptionStyleModel",
          "model_module_version": "1.5.0",
          "state": {
            "_model_module": "@jupyter-widgets/controls",
            "_model_module_version": "1.5.0",
            "_model_name": "DescriptionStyleModel",
            "_view_count": null,
            "_view_module": "@jupyter-widgets/base",
            "_view_module_version": "1.2.0",
            "_view_name": "StyleView",
            "description_width": ""
          }
        },
        "aca7cdf03ef3431491504cc0395ab751": {
          "model_module": "@jupyter-widgets/controls",
          "model_name": "HBoxModel",
          "model_module_version": "1.5.0",
          "state": {
            "_dom_classes": [],
            "_model_module": "@jupyter-widgets/controls",
            "_model_module_version": "1.5.0",
            "_model_name": "HBoxModel",
            "_view_count": null,
            "_view_module": "@jupyter-widgets/controls",
            "_view_module_version": "1.5.0",
            "_view_name": "HBoxView",
            "box_style": "",
            "children": [
              "IPY_MODEL_839f60c0a4b24093a5f32eeb685967eb",
              "IPY_MODEL_dd30ac1ac40044ae8ce4057de350c00e",
              "IPY_MODEL_a93bb38d76bd4f63b22ace8df9dbe10f"
            ],
            "layout": "IPY_MODEL_4a0347cee1b747c087a6972446288a39"
          }
        },
        "839f60c0a4b24093a5f32eeb685967eb": {
          "model_module": "@jupyter-widgets/controls",
          "model_name": "HTMLModel",
          "model_module_version": "1.5.0",
          "state": {
            "_dom_classes": [],
            "_model_module": "@jupyter-widgets/controls",
            "_model_module_version": "1.5.0",
            "_model_name": "HTMLModel",
            "_view_count": null,
            "_view_module": "@jupyter-widgets/controls",
            "_view_module_version": "1.5.0",
            "_view_name": "HTMLView",
            "description": "",
            "description_tooltip": null,
            "layout": "IPY_MODEL_50b15eb1d869416ca3d6a28f01315757",
            "placeholder": "​",
            "style": "IPY_MODEL_c4c8af7351984f1db64bef0b359b77bd",
            "value": "100%"
          }
        },
        "dd30ac1ac40044ae8ce4057de350c00e": {
          "model_module": "@jupyter-widgets/controls",
          "model_name": "FloatProgressModel",
          "model_module_version": "1.5.0",
          "state": {
            "_dom_classes": [],
            "_model_module": "@jupyter-widgets/controls",
            "_model_module_version": "1.5.0",
            "_model_name": "FloatProgressModel",
            "_view_count": null,
            "_view_module": "@jupyter-widgets/controls",
            "_view_module_version": "1.5.0",
            "_view_name": "ProgressView",
            "bar_style": "success",
            "description": "",
            "description_tooltip": null,
            "layout": "IPY_MODEL_a2287704a18447c59ae34d3de2469d07",
            "max": 611,
            "min": 0,
            "orientation": "horizontal",
            "style": "IPY_MODEL_897ba1601d974a65b0c3373ad717b867",
            "value": 611
          }
        },
        "a93bb38d76bd4f63b22ace8df9dbe10f": {
          "model_module": "@jupyter-widgets/controls",
          "model_name": "HTMLModel",
          "model_module_version": "1.5.0",
          "state": {
            "_dom_classes": [],
            "_model_module": "@jupyter-widgets/controls",
            "_model_module_version": "1.5.0",
            "_model_name": "HTMLModel",
            "_view_count": null,
            "_view_module": "@jupyter-widgets/controls",
            "_view_module_version": "1.5.0",
            "_view_name": "HTMLView",
            "description": "",
            "description_tooltip": null,
            "layout": "IPY_MODEL_b773b5d1ae394b63bd0fdc9c5069d9d6",
            "placeholder": "​",
            "style": "IPY_MODEL_baef4281444c421a9518c435beb416a6",
            "value": " 611/611 [13:26&lt;00:00,  2.02s/it]"
          }
        },
        "4a0347cee1b747c087a6972446288a39": {
          "model_module": "@jupyter-widgets/base",
          "model_name": "LayoutModel",
          "model_module_version": "1.2.0",
          "state": {
            "_model_module": "@jupyter-widgets/base",
            "_model_module_version": "1.2.0",
            "_model_name": "LayoutModel",
            "_view_count": null,
            "_view_module": "@jupyter-widgets/base",
            "_view_module_version": "1.2.0",
            "_view_name": "LayoutView",
            "align_content": null,
            "align_items": null,
            "align_self": null,
            "border": null,
            "bottom": null,
            "display": null,
            "flex": null,
            "flex_flow": null,
            "grid_area": null,
            "grid_auto_columns": null,
            "grid_auto_flow": null,
            "grid_auto_rows": null,
            "grid_column": null,
            "grid_gap": null,
            "grid_row": null,
            "grid_template_areas": null,
            "grid_template_columns": null,
            "grid_template_rows": null,
            "height": null,
            "justify_content": null,
            "justify_items": null,
            "left": null,
            "margin": null,
            "max_height": null,
            "max_width": null,
            "min_height": null,
            "min_width": null,
            "object_fit": null,
            "object_position": null,
            "order": null,
            "overflow": null,
            "overflow_x": null,
            "overflow_y": null,
            "padding": null,
            "right": null,
            "top": null,
            "visibility": null,
            "width": null
          }
        },
        "50b15eb1d869416ca3d6a28f01315757": {
          "model_module": "@jupyter-widgets/base",
          "model_name": "LayoutModel",
          "model_module_version": "1.2.0",
          "state": {
            "_model_module": "@jupyter-widgets/base",
            "_model_module_version": "1.2.0",
            "_model_name": "LayoutModel",
            "_view_count": null,
            "_view_module": "@jupyter-widgets/base",
            "_view_module_version": "1.2.0",
            "_view_name": "LayoutView",
            "align_content": null,
            "align_items": null,
            "align_self": null,
            "border": null,
            "bottom": null,
            "display": null,
            "flex": null,
            "flex_flow": null,
            "grid_area": null,
            "grid_auto_columns": null,
            "grid_auto_flow": null,
            "grid_auto_rows": null,
            "grid_column": null,
            "grid_gap": null,
            "grid_row": null,
            "grid_template_areas": null,
            "grid_template_columns": null,
            "grid_template_rows": null,
            "height": null,
            "justify_content": null,
            "justify_items": null,
            "left": null,
            "margin": null,
            "max_height": null,
            "max_width": null,
            "min_height": null,
            "min_width": null,
            "object_fit": null,
            "object_position": null,
            "order": null,
            "overflow": null,
            "overflow_x": null,
            "overflow_y": null,
            "padding": null,
            "right": null,
            "top": null,
            "visibility": null,
            "width": null
          }
        },
        "c4c8af7351984f1db64bef0b359b77bd": {
          "model_module": "@jupyter-widgets/controls",
          "model_name": "DescriptionStyleModel",
          "model_module_version": "1.5.0",
          "state": {
            "_model_module": "@jupyter-widgets/controls",
            "_model_module_version": "1.5.0",
            "_model_name": "DescriptionStyleModel",
            "_view_count": null,
            "_view_module": "@jupyter-widgets/base",
            "_view_module_version": "1.2.0",
            "_view_name": "StyleView",
            "description_width": ""
          }
        },
        "a2287704a18447c59ae34d3de2469d07": {
          "model_module": "@jupyter-widgets/base",
          "model_name": "LayoutModel",
          "model_module_version": "1.2.0",
          "state": {
            "_model_module": "@jupyter-widgets/base",
            "_model_module_version": "1.2.0",
            "_model_name": "LayoutModel",
            "_view_count": null,
            "_view_module": "@jupyter-widgets/base",
            "_view_module_version": "1.2.0",
            "_view_name": "LayoutView",
            "align_content": null,
            "align_items": null,
            "align_self": null,
            "border": null,
            "bottom": null,
            "display": null,
            "flex": null,
            "flex_flow": null,
            "grid_area": null,
            "grid_auto_columns": null,
            "grid_auto_flow": null,
            "grid_auto_rows": null,
            "grid_column": null,
            "grid_gap": null,
            "grid_row": null,
            "grid_template_areas": null,
            "grid_template_columns": null,
            "grid_template_rows": null,
            "height": null,
            "justify_content": null,
            "justify_items": null,
            "left": null,
            "margin": null,
            "max_height": null,
            "max_width": null,
            "min_height": null,
            "min_width": null,
            "object_fit": null,
            "object_position": null,
            "order": null,
            "overflow": null,
            "overflow_x": null,
            "overflow_y": null,
            "padding": null,
            "right": null,
            "top": null,
            "visibility": null,
            "width": null
          }
        },
        "897ba1601d974a65b0c3373ad717b867": {
          "model_module": "@jupyter-widgets/controls",
          "model_name": "ProgressStyleModel",
          "model_module_version": "1.5.0",
          "state": {
            "_model_module": "@jupyter-widgets/controls",
            "_model_module_version": "1.5.0",
            "_model_name": "ProgressStyleModel",
            "_view_count": null,
            "_view_module": "@jupyter-widgets/base",
            "_view_module_version": "1.2.0",
            "_view_name": "StyleView",
            "bar_color": null,
            "description_width": ""
          }
        },
        "b773b5d1ae394b63bd0fdc9c5069d9d6": {
          "model_module": "@jupyter-widgets/base",
          "model_name": "LayoutModel",
          "model_module_version": "1.2.0",
          "state": {
            "_model_module": "@jupyter-widgets/base",
            "_model_module_version": "1.2.0",
            "_model_name": "LayoutModel",
            "_view_count": null,
            "_view_module": "@jupyter-widgets/base",
            "_view_module_version": "1.2.0",
            "_view_name": "LayoutView",
            "align_content": null,
            "align_items": null,
            "align_self": null,
            "border": null,
            "bottom": null,
            "display": null,
            "flex": null,
            "flex_flow": null,
            "grid_area": null,
            "grid_auto_columns": null,
            "grid_auto_flow": null,
            "grid_auto_rows": null,
            "grid_column": null,
            "grid_gap": null,
            "grid_row": null,
            "grid_template_areas": null,
            "grid_template_columns": null,
            "grid_template_rows": null,
            "height": null,
            "justify_content": null,
            "justify_items": null,
            "left": null,
            "margin": null,
            "max_height": null,
            "max_width": null,
            "min_height": null,
            "min_width": null,
            "object_fit": null,
            "object_position": null,
            "order": null,
            "overflow": null,
            "overflow_x": null,
            "overflow_y": null,
            "padding": null,
            "right": null,
            "top": null,
            "visibility": null,
            "width": null
          }
        },
        "baef4281444c421a9518c435beb416a6": {
          "model_module": "@jupyter-widgets/controls",
          "model_name": "DescriptionStyleModel",
          "model_module_version": "1.5.0",
          "state": {
            "_model_module": "@jupyter-widgets/controls",
            "_model_module_version": "1.5.0",
            "_model_name": "DescriptionStyleModel",
            "_view_count": null,
            "_view_module": "@jupyter-widgets/base",
            "_view_module_version": "1.2.0",
            "_view_name": "StyleView",
            "description_width": ""
          }
        }
      }
    }
  },
  "cells": [
    {
      "cell_type": "markdown",
      "source": [
        "# Final Assignment - Having a look at \"success\" videos on YouTube\n",
        "Podcasts that assure you you will be happier healthier and more healed. I chose the most famous pod in the UK about \"succesful lifestyle\".\n",
        "\n",
        "Analyzing likes, views and the commenters - searching for bots.\n",
        "\n",
        "By: Juliana Bernal Barbosa"
      ],
      "metadata": {
        "id": "P7oAyaKcBStp"
      }
    },
    {
      "cell_type": "code",
      "source": [
        "! pip install minet"
      ],
      "metadata": {
        "id": "5Ai6byWzBdtj",
        "colab": {
          "base_uri": "https://localhost:8080/"
        },
        "outputId": "927e9569-dd5a-4aee-b771-2e7f2ab85afe"
      },
      "execution_count": 1,
      "outputs": [
        {
          "output_type": "stream",
          "name": "stdout",
          "text": [
            "Collecting minet\n",
            "  Downloading minet-2.0.3-py3-none-any.whl (324 kB)\n",
            "\u001b[?25l     \u001b[90m━━━━━━━━━━━━━━━━━━━━━━━━━━━━━━━━━━━━━━━━\u001b[0m \u001b[32m0.0/324.5 kB\u001b[0m \u001b[31m?\u001b[0m eta \u001b[36m-:--:--\u001b[0m\r\u001b[2K     \u001b[91m━━━━━━━━━━━━━━━━━━━━━━━━━\u001b[0m\u001b[90m╺\u001b[0m\u001b[90m━━━━━━━━━━━━━━\u001b[0m \u001b[32m204.8/324.5 kB\u001b[0m \u001b[31m6.0 MB/s\u001b[0m eta \u001b[36m0:00:01\u001b[0m\r\u001b[2K     \u001b[90m━━━━━━━━━━━━━━━━━━━━━━━━━━━━━━━━━━━━━━━━\u001b[0m \u001b[32m324.5/324.5 kB\u001b[0m \u001b[31m6.2 MB/s\u001b[0m eta \u001b[36m0:00:00\u001b[0m\n",
            "\u001b[?25hCollecting about-time<5,>=4 (from minet)\n",
            "  Downloading about_time-4.2.1-py3-none-any.whl (13 kB)\n",
            "Requirement already satisfied: beautifulsoup4<5,>=4.7.1 in /usr/local/lib/python3.10/dist-packages (from minet) (4.12.3)\n",
            "Collecting browser-cookie3==0.19.1 (from minet)\n",
            "  Downloading browser_cookie3-0.19.1-py3-none-any.whl (14 kB)\n",
            "Collecting casanova<3,>=2.0.1 (from minet)\n",
            "  Downloading casanova-2.0.2-py3-none-any.whl (50 kB)\n",
            "\u001b[2K     \u001b[90m━━━━━━━━━━━━━━━━━━━━━━━━━━━━━━━━━━━━━━━━\u001b[0m \u001b[32m50.3/50.3 kB\u001b[0m \u001b[31m6.5 MB/s\u001b[0m eta \u001b[36m0:00:00\u001b[0m\n",
            "\u001b[?25hRequirement already satisfied: charset-normalizer<4,>=3 in /usr/local/lib/python3.10/dist-packages (from minet) (3.3.2)\n",
            "Collecting dateparser>=1.1.1 (from minet)\n",
            "  Downloading dateparser-1.2.0-py2.py3-none-any.whl (294 kB)\n",
            "\u001b[2K     \u001b[90m━━━━━━━━━━━━━━━━━━━━━━━━━━━━━━━━━━━━━━━━\u001b[0m \u001b[32m295.0/295.0 kB\u001b[0m \u001b[31m9.9 MB/s\u001b[0m eta \u001b[36m0:00:00\u001b[0m\n",
            "\u001b[?25hCollecting ebbe<2,>=1.13 (from minet)\n",
            "  Downloading ebbe-1.13.2-py3-none-any.whl (14 kB)\n",
            "Collecting json5>=0.8.5 (from minet)\n",
            "  Downloading json5-0.9.25-py3-none-any.whl (30 kB)\n",
            "Requirement already satisfied: lxml<5.2,>=4.3.0 in /usr/local/lib/python3.10/dist-packages (from minet) (4.9.4)\n",
            "Collecting nanoid<3,>=2 (from minet)\n",
            "  Downloading nanoid-2.0.0-py3-none-any.whl (5.8 kB)\n",
            "Collecting playwright<1.44,>=1.43 (from minet)\n",
            "  Downloading playwright-1.43.0-py3-none-manylinux1_x86_64.whl (37.3 MB)\n",
            "\u001b[2K     \u001b[90m━━━━━━━━━━━━━━━━━━━━━━━━━━━━━━━━━━━━━━━━\u001b[0m \u001b[32m37.3/37.3 MB\u001b[0m \u001b[31m17.9 MB/s\u001b[0m eta \u001b[36m0:00:00\u001b[0m\n",
            "\u001b[?25hCollecting playwright-stealth<2,>=1.0.6 (from minet)\n",
            "  Downloading playwright_stealth-1.0.6-py3-none-any.whl (28 kB)\n",
            "Requirement already satisfied: pyyaml in /usr/local/lib/python3.10/dist-packages (from minet) (6.0.1)\n",
            "Collecting quenouille<2,>=1.9.1 (from minet)\n",
            "  Downloading quenouille-1.9.1-py3-none-any.whl (19 kB)\n",
            "Requirement already satisfied: rich<14,>=13 in /usr/local/lib/python3.10/dist-packages (from minet) (13.7.1)\n",
            "Collecting rich-argparse<2,>=1 (from minet)\n",
            "  Downloading rich_argparse-1.4.0-py3-none-any.whl (19 kB)\n",
            "Requirement already satisfied: soupsieve<3,>=2.1 in /usr/local/lib/python3.10/dist-packages (from minet) (2.5)\n",
            "Requirement already satisfied: tenacity<9,>=8 in /usr/local/lib/python3.10/dist-packages (from minet) (8.2.3)\n",
            "Collecting trafilatura<1.9,>=1.8.1 (from minet)\n",
            "  Downloading trafilatura-1.8.1-py3-none-any.whl (1.0 MB)\n",
            "\u001b[2K     \u001b[90m━━━━━━━━━━━━━━━━━━━━━━━━━━━━━━━━━━━━━━━━\u001b[0m \u001b[32m1.0/1.0 MB\u001b[0m \u001b[31m60.3 MB/s\u001b[0m eta \u001b[36m0:00:00\u001b[0m\n",
            "\u001b[?25hCollecting twitwi<0.19,>=0.18.2 (from minet)\n",
            "  Downloading twitwi-0.18.2-py3-none-any.whl (18 kB)\n",
            "Collecting ural<2,>=1.3.2 (from minet)\n",
            "  Downloading ural-1.3.2-py3-none-any.whl (138 kB)\n",
            "\u001b[2K     \u001b[90m━━━━━━━━━━━━━━━━━━━━━━━━━━━━━━━━━━━━━━━━\u001b[0m \u001b[32m138.2/138.2 kB\u001b[0m \u001b[31m19.7 MB/s\u001b[0m eta \u001b[36m0:00:00\u001b[0m\n",
            "\u001b[?25hCollecting urllib3<2,>=1.26.16 (from minet)\n",
            "  Downloading urllib3-1.26.18-py2.py3-none-any.whl (143 kB)\n",
            "\u001b[2K     \u001b[90m━━━━━━━━━━━━━━━━━━━━━━━━━━━━━━━━━━━━━━━━\u001b[0m \u001b[32m143.8/143.8 kB\u001b[0m \u001b[31m16.2 MB/s\u001b[0m eta \u001b[36m0:00:00\u001b[0m\n",
            "\u001b[?25hRequirement already satisfied: typing-extensions>=4.3 in /usr/local/lib/python3.10/dist-packages (from minet) (4.11.0)\n",
            "Collecting lz4 (from browser-cookie3==0.19.1->minet)\n",
            "  Downloading lz4-4.3.3-cp310-cp310-manylinux_2_17_x86_64.manylinux2014_x86_64.whl (1.3 MB)\n",
            "\u001b[2K     \u001b[90m━━━━━━━━━━━━━━━━━━━━━━━━━━━━━━━━━━━━━━━━\u001b[0m \u001b[32m1.3/1.3 MB\u001b[0m \u001b[31m73.2 MB/s\u001b[0m eta \u001b[36m0:00:00\u001b[0m\n",
            "\u001b[?25hCollecting pycryptodomex (from browser-cookie3==0.19.1->minet)\n",
            "  Downloading pycryptodomex-3.20.0-cp35-abi3-manylinux_2_17_x86_64.manylinux2014_x86_64.whl (2.1 MB)\n",
            "\u001b[2K     \u001b[90m━━━━━━━━━━━━━━━━━━━━━━━━━━━━━━━━━━━━━━━━\u001b[0m \u001b[32m2.1/2.1 MB\u001b[0m \u001b[31m50.7 MB/s\u001b[0m eta \u001b[36m0:00:00\u001b[0m\n",
            "\u001b[?25hRequirement already satisfied: jeepney in /usr/lib/python3/dist-packages (from browser-cookie3==0.19.1->minet) (0.7.1)\n",
            "Requirement already satisfied: python-dateutil in /usr/local/lib/python3.10/dist-packages (from dateparser>=1.1.1->minet) (2.8.2)\n",
            "Requirement already satisfied: pytz in /usr/local/lib/python3.10/dist-packages (from dateparser>=1.1.1->minet) (2023.4)\n",
            "Requirement already satisfied: regex!=2019.02.19,!=2021.8.27 in /usr/local/lib/python3.10/dist-packages (from dateparser>=1.1.1->minet) (2023.12.25)\n",
            "Requirement already satisfied: tzlocal in /usr/local/lib/python3.10/dist-packages (from dateparser>=1.1.1->minet) (5.2)\n",
            "Requirement already satisfied: greenlet==3.0.3 in /usr/local/lib/python3.10/dist-packages (from playwright<1.44,>=1.43->minet) (3.0.3)\n",
            "Collecting pyee==11.1.0 (from playwright<1.44,>=1.43->minet)\n",
            "  Downloading pyee-11.1.0-py3-none-any.whl (15 kB)\n",
            "Requirement already satisfied: markdown-it-py>=2.2.0 in /usr/local/lib/python3.10/dist-packages (from rich<14,>=13->minet) (3.0.0)\n",
            "Requirement already satisfied: pygments<3.0.0,>=2.13.0 in /usr/local/lib/python3.10/dist-packages (from rich<14,>=13->minet) (2.16.1)\n",
            "Requirement already satisfied: certifi in /usr/local/lib/python3.10/dist-packages (from trafilatura<1.9,>=1.8.1->minet) (2024.2.2)\n",
            "Collecting courlan>=1.0.0 (from trafilatura<1.9,>=1.8.1->minet)\n",
            "  Downloading courlan-1.1.0-py3-none-any.whl (33 kB)\n",
            "Collecting htmldate>=1.8.0 (from trafilatura<1.9,>=1.8.1->minet)\n",
            "  Downloading htmldate-1.8.1-py3-none-any.whl (31 kB)\n",
            "Collecting justext>=3.0.0 (from trafilatura<1.9,>=1.8.1->minet)\n",
            "  Downloading jusText-3.0.0-py2.py3-none-any.whl (837 kB)\n",
            "\u001b[2K     \u001b[90m━━━━━━━━━━━━━━━━━━━━━━━━━━━━━━━━━━━━━━━━\u001b[0m \u001b[32m837.8/837.8 kB\u001b[0m \u001b[31m44.8 MB/s\u001b[0m eta \u001b[36m0:00:00\u001b[0m\n",
            "\u001b[?25hCollecting twitter==2.0a2 (from twitwi<0.19,>=0.18.2->minet)\n",
            "  Downloading twitter-2.0a2-py2.py3-none-any.whl (53 kB)\n",
            "\u001b[2K     \u001b[90m━━━━━━━━━━━━━━━━━━━━━━━━━━━━━━━━━━━━━━━━\u001b[0m \u001b[32m53.3/53.3 kB\u001b[0m \u001b[31m7.2 MB/s\u001b[0m eta \u001b[36m0:00:00\u001b[0m\n",
            "\u001b[?25hRequirement already satisfied: babel>=2.11.0 in /usr/local/lib/python3.10/dist-packages (from courlan>=1.0.0->trafilatura<1.9,>=1.8.1->minet) (2.14.0)\n",
            "Collecting tld>=0.13 (from courlan>=1.0.0->trafilatura<1.9,>=1.8.1->minet)\n",
            "  Downloading tld-0.13-py2.py3-none-any.whl (263 kB)\n",
            "\u001b[2K     \u001b[90m━━━━━━━━━━━━━━━━━━━━━━━━━━━━━━━━━━━━━━━━\u001b[0m \u001b[32m263.8/263.8 kB\u001b[0m \u001b[31m27.7 MB/s\u001b[0m eta \u001b[36m0:00:00\u001b[0m\n",
            "\u001b[?25hRequirement already satisfied: mdurl~=0.1 in /usr/local/lib/python3.10/dist-packages (from markdown-it-py>=2.2.0->rich<14,>=13->minet) (0.1.2)\n",
            "Requirement already satisfied: six>=1.5 in /usr/local/lib/python3.10/dist-packages (from python-dateutil->dateparser>=1.1.1->minet) (1.16.0)\n",
            "Installing collected packages: nanoid, urllib3, ural, twitter, tld, quenouille, pyee, pycryptodomex, lz4, justext, json5, ebbe, about-time, twitwi, playwright, dateparser, courlan, casanova, browser-cookie3, rich-argparse, playwright-stealth, htmldate, trafilatura, minet\n",
            "  Attempting uninstall: urllib3\n",
            "    Found existing installation: urllib3 2.0.7\n",
            "    Uninstalling urllib3-2.0.7:\n",
            "      Successfully uninstalled urllib3-2.0.7\n",
            "Successfully installed about-time-4.2.1 browser-cookie3-0.19.1 casanova-2.0.2 courlan-1.1.0 dateparser-1.2.0 ebbe-1.13.2 htmldate-1.8.1 json5-0.9.25 justext-3.0.0 lz4-4.3.3 minet-2.0.3 nanoid-2.0.0 playwright-1.43.0 playwright-stealth-1.0.6 pycryptodomex-3.20.0 pyee-11.1.0 quenouille-1.9.1 rich-argparse-1.4.0 tld-0.13 trafilatura-1.8.1 twitter-2.0a2 twitwi-0.18.2 ural-1.3.2 urllib3-1.26.18\n"
          ]
        }
      ]
    },
    {
      "cell_type": "code",
      "source": [
        "!pip install tqdm"
      ],
      "metadata": {
        "id": "jH9e2CkODgyT",
        "colab": {
          "base_uri": "https://localhost:8080/"
        },
        "outputId": "5c929022-10bd-4f06-f6c4-50ed4be48a7a"
      },
      "execution_count": 2,
      "outputs": [
        {
          "output_type": "stream",
          "name": "stdout",
          "text": [
            "Requirement already satisfied: tqdm in /usr/local/lib/python3.10/dist-packages (4.66.2)\n"
          ]
        }
      ]
    },
    {
      "cell_type": "code",
      "source": [
        "!minet yt videos IxVNR0Om-lA -k"
      ],
      "metadata": {
        "id": "aWGwrWwtEddV",
        "colab": {
          "base_uri": "https://localhost:8080/"
        },
        "outputId": "987e6efb-13b6-4f0d-e60e-856034940f54"
      },
      "execution_count": 3,
      "outputs": [
        {
          "output_type": "stream",
          "name": "stdout",
          "text": [
            "video,video_id,title,published_at,description,channel_id,channel_title,default_language,view_count,like_count,comment_count,duration,has_captions,category_id,category,topics,tags\r\n",
            "\u001b[?25lRetrieving videos \u001b[90m━━━━━━━━━━━\u001b[0m 0/1 videos ⠋ - in 2.88ms (?/s)                                        \r\u001b[2KRetrieving videos \u001b[90m━━━━━━━━━━━\u001b[0m 0/1 videos ⠙ - in 109.87ms (?/s)                                      \r\u001b[2KRetrieving videos \u001b[90m━━━━━━━━━━━\u001b[0m 0/1 videos ⠹ - in 214.62ms (?/s)                                      IxVNR0Om-lA,IxVNR0Om-lA,Mo Gawdat (Listen If You’re Stressed): This Is Causing 70% Of Heart Attacks In Young People!,2024-04-25T07:00:07Z,\"Mo Gawdat is the former Chief Business Officer for Google X, the founder of ‘One Billion Happy’ foundation, and co-founder of ‘Unstressable’. He is the bestselling author of books such as, ‘Solve for Happy’, ‘Scary Smart’, and ‘That Little Voice in Your Head’.\n",
            "\n",
            "00:00 Intro\n",
            "02:01 Mo How Are You Doing?\n",
            "07:08 Mo's New Book & The State Of The World\n",
            "12:31 The Speed Of The World\n",
            "17:14 Stress Is The New Addiction\n",
            "26:41 Will I Lose Productivity Without Stress?\n",
            "31:06 What is TONN? The Origin Of Stress\n",
            "36:07 Upsetting People With Change & Choosing To Put Ourselves First\n",
            "43:31 What Is Loss Aversion?\n",
            "50:43 The Noise Of Stress\n",
            "01:01:38 How Do We Spot Our Own Stress?\n",
            "01:04:49 Are We Really Too Busy?\n",
            "01:12:18 Setting Limits & Prioritising The Important Stuff\n",
            "01:18:20 How Our Childhood Impact In Our Bias To Workaholism\n",
            "01:22:22 Loss And How Long We Have Left\n",
            "01:29:02 Passport Control Detention\n",
            "01:29:49 How Do We Undo Stress\n",
            "01:44:02 Work / Life Balance\n",
            "01:44:52 The Impact Of AI\n",
            "02:02:04 Being Successful And Balanced\n",
            "02:16:20 Love & Relationship Advice\n",
            "02:26:17 Why Some People Don't Find A Partner\n",
            "02:34:22 Becoming Unstressable\n",
            "02:40:15 Mo's Family Heartache\n",
            "02:44:53 What Would You Tell The First People You Loved\n",
            "\n",
            "\n",
            "You can purchase Mo’s newest book, ‘Unstressable: A Practical Guide to Stress-Free Living’, available on 9th May 2024, here: https://amzn.to/3w6xG8h\n",
            "\n",
            "Follow Mo:\n",
            "Instagram - https://bit.ly/3w5VGIC\n",
            "Twitter - https://bit.ly/3JwggoE\n",
            "YouTube - https://bit.ly/3QlCUnt\n",
            "\n",
            "My new book! 'The 33 Laws Of Business & Life' is out now - https://smarturl.it/DOACbook\n",
            "\n",
            "Follow me:\n",
            "https://beacons.ai/diaryofaceo\n",
            "\n",
            "Join this channel to get access to perks:\n",
            "https://www.youtube.com/channel/UCGq-a57w-aPwyi3pW7XLiHw/join\n",
            "\n",
            "Follow our Shorts channel for more content:\n",
            "https://www.youtube.com/@TheDiaryofaCEOShorts\n",
            "\n",
            "Sponsors:\n",
            "Linkedin Ads: https://www.linkedin.com/doac24\n",
            "Shopify: http://shopify.com/bartlett\",UCGq-a57w-aPwyi3pW7XLiHw,The Diary Of A CEO,en,574002,12907,1473,PT2H53M46S,false,22,People & Blogs,https://en.wikipedia.org/wiki/Health|https://en.wikipedia.org/wiki/Society,The Diary Of A CEO|steven bartlett steve bartlett|podcast|the diary of a CEO podcast|life lessons|CEO\r\n",
            "\r\u001b[2KRetrieving videos \u001b[32m━━━━━━━━━━━\u001b[0m 1/1 videos · - in 244.93ms (4.08/s)                                   \n",
            "\u001b[?25h"
          ]
        }
      ]
    },
    {
      "cell_type": "code",
      "source": [
        "from minet.youtube import YouTubeAPIClient"
      ],
      "metadata": {
        "id": "ixGd_A4VEgSe"
      },
      "execution_count": 4,
      "outputs": []
    },
    {
      "cell_type": "code",
      "source": [
        "client = YouTubeAPIClient(\"mykey\", sleep= False)"
      ],
      "metadata": {
        "id": "zrRlue7jEj70"
      },
      "execution_count": 5,
      "outputs": []
    },
    {
      "cell_type": "code",
      "source": [
        "client.video(\"https://www.youtube.com/watch?v=X2vNGwMCw-M\", raw = True)"
      ],
      "metadata": {
        "colab": {
          "base_uri": "https://localhost:8080/"
        },
        "id": "IEOHF-q-EqU2",
        "outputId": "091c891f-98c6-4db6-8ebe-34b0f8faa0e1"
      },
      "execution_count": 6,
      "outputs": [
        {
          "output_type": "execute_result",
          "data": {
            "text/plain": [
              "{'kind': 'youtube#video',\n",
              " 'etag': 'Il2a34CpwaRHElObnhZkERNbJBE',\n",
              " 'id': 'X2vNGwMCw-M',\n",
              " 'snippet': {'publishedAt': '2024-01-08T14:00:20Z',\n",
              "  'channelId': 'UCbk_QsfaFZG6PdQeCvaYXJQ',\n",
              "  'title': 'MICHELLE OBAMA Opens Up On Her 8 Years In The White House: \"We Know Too Much.\"',\n",
              "  'description': 'Today, I’m honored to welcome the one and only Michelle Obama to On Purpose. Michelle, who needs no introduction, sits down with me to reflect on her eight years in the White House, the challenges one faces in the public eye, and how her personal relationships have changed since becoming First Lady.\\n\\nWe discuss a variety of topics, from the addicting nature of cell phones to weathering the storms faced during long-term relationships. Michelle, having had such a unique lived experience thus far, has such important advice to offer, and this conversation truly showcases that fact. \\n\\nIf you liked this episode, then you’ll enjoy my conversation with Jada Pinkett Smith: https://www.youtube.com/watch?v=FRP1q1Jj-7o\\n\\nWhat We Discuss:\\n00:00 Intro\\n01:14 What is the Best Part of Being You?\\n02:13 What’s Your Longest Friendship?\\n03:15 The Struggle of Leaving the People You Love Behind\\n07:14 Be Open to the Possibilities of People\\n11:32 What’s the Hardest Part of Being You?\\n16:45 What Keeps You Up at Night?\\n19:00 Allow Your Brain to Rest from the Noise\\n24:05 Mindful Usage of Technology\\n30:45 How Do You Sustain a Successful Relationship?\\n35:22 The Non-Negotiables in Any Relationship\\n42:29 What is Your Fight Style?\\n48:20 Giving People Space to Be Seen and Heard\\n52:54 What Offends You the Most?\\n59:59 Final Five with Michelle Obama\\n\\nEpisode Resources:\\nInstagram: https://www.instagram.com/michelleobama/\\nFacebook: https://www.facebook.com/michelleobama/\\nBooks: https://michelleobamabooks.com/becoming\\nThe Obama Foundation: https://www.obama.org/\\n\\nWant to learn to coach like Jay Shetty? Discover how here: https://gtly.to/PMlHc6JZw',\n",
              "  'thumbnails': {'default': {'url': 'https://i.ytimg.com/vi/X2vNGwMCw-M/default.jpg',\n",
              "    'width': 120,\n",
              "    'height': 90},\n",
              "   'medium': {'url': 'https://i.ytimg.com/vi/X2vNGwMCw-M/mqdefault.jpg',\n",
              "    'width': 320,\n",
              "    'height': 180},\n",
              "   'high': {'url': 'https://i.ytimg.com/vi/X2vNGwMCw-M/hqdefault.jpg',\n",
              "    'width': 480,\n",
              "    'height': 360},\n",
              "   'standard': {'url': 'https://i.ytimg.com/vi/X2vNGwMCw-M/sddefault.jpg',\n",
              "    'width': 640,\n",
              "    'height': 480},\n",
              "   'maxres': {'url': 'https://i.ytimg.com/vi/X2vNGwMCw-M/maxresdefault.jpg',\n",
              "    'width': 1280,\n",
              "    'height': 720}},\n",
              "  'channelTitle': 'Jay Shetty Podcast',\n",
              "  'tags': ['Jay Shetty',\n",
              "   'Jay Shetty Podcast',\n",
              "   'Jay Shetty Interview',\n",
              "   'On Purpose Podcast',\n",
              "   'Jay Shetty Inspiration',\n",
              "   'Jay Shetty Motivation',\n",
              "   'Jay Shetty Video',\n",
              "   'Self help',\n",
              "   'Self improvement',\n",
              "   'Self development',\n",
              "   'entrepreneur',\n",
              "   'success habits',\n",
              "   'purpose podcast',\n",
              "   'Jay Shetty relationships',\n",
              "   'michelle obama',\n",
              "   'michelle obama jay shetty',\n",
              "   'jay shetty interview',\n",
              "   'obama',\n",
              "   'barack obama',\n",
              "   'the obama foundation',\n",
              "   'becoming',\n",
              "   'the white house',\n",
              "   'politics',\n",
              "   'american politics',\n",
              "   'president obama',\n",
              "   'michelle obama interview'],\n",
              "  'categoryId': '27',\n",
              "  'liveBroadcastContent': 'none',\n",
              "  'localized': {'title': 'MICHELLE OBAMA Opens Up On Her 8 Years In The White House: \"We Know Too Much.\"',\n",
              "   'description': 'Today, I’m honored to welcome the one and only Michelle Obama to On Purpose. Michelle, who needs no introduction, sits down with me to reflect on her eight years in the White House, the challenges one faces in the public eye, and how her personal relationships have changed since becoming First Lady.\\n\\nWe discuss a variety of topics, from the addicting nature of cell phones to weathering the storms faced during long-term relationships. Michelle, having had such a unique lived experience thus far, has such important advice to offer, and this conversation truly showcases that fact. \\n\\nIf you liked this episode, then you’ll enjoy my conversation with Jada Pinkett Smith: https://www.youtube.com/watch?v=FRP1q1Jj-7o\\n\\nWhat We Discuss:\\n00:00 Intro\\n01:14 What is the Best Part of Being You?\\n02:13 What’s Your Longest Friendship?\\n03:15 The Struggle of Leaving the People You Love Behind\\n07:14 Be Open to the Possibilities of People\\n11:32 What’s the Hardest Part of Being You?\\n16:45 What Keeps You Up at Night?\\n19:00 Allow Your Brain to Rest from the Noise\\n24:05 Mindful Usage of Technology\\n30:45 How Do You Sustain a Successful Relationship?\\n35:22 The Non-Negotiables in Any Relationship\\n42:29 What is Your Fight Style?\\n48:20 Giving People Space to Be Seen and Heard\\n52:54 What Offends You the Most?\\n59:59 Final Five with Michelle Obama\\n\\nEpisode Resources:\\nInstagram: https://www.instagram.com/michelleobama/\\nFacebook: https://www.facebook.com/michelleobama/\\nBooks: https://michelleobamabooks.com/becoming\\nThe Obama Foundation: https://www.obama.org/\\n\\nWant to learn to coach like Jay Shetty? Discover how here: https://gtly.to/PMlHc6JZw'},\n",
              "  'defaultAudioLanguage': 'en-US'},\n",
              " 'contentDetails': {'duration': 'PT1H7M25S',\n",
              "  'dimension': '2d',\n",
              "  'definition': 'hd',\n",
              "  'caption': 'false',\n",
              "  'licensedContent': True,\n",
              "  'contentRating': {},\n",
              "  'projection': 'rectangular'},\n",
              " 'statistics': {'viewCount': '2160172',\n",
              "  'likeCount': '58748',\n",
              "  'favoriteCount': '0',\n",
              "  'commentCount': '4188'},\n",
              " 'topicDetails': {'topicCategories': ['https://en.wikipedia.org/wiki/Politics',\n",
              "   'https://en.wikipedia.org/wiki/Society']}}"
            ]
          },
          "metadata": {},
          "execution_count": 6
        }
      ]
    },
    {
      "cell_type": "code",
      "source": [
        "from tqdm.notebook import tqdm"
      ],
      "metadata": {
        "id": "HJqkaRjTEOot"
      },
      "execution_count": 7,
      "outputs": []
    },
    {
      "cell_type": "markdown",
      "source": [
        "# YOUTUBE Channel : Jay Shetty Podcast - \"conversations and workshops that are designed to help make you happier, healthier and more healed\""
      ],
      "metadata": {
        "id": "Iy4uEu-Dsidm"
      }
    },
    {
      "cell_type": "code",
      "source": [
        "client.channel(\"https://www.youtube.com/@JayShettyPodcast.\", raw = True)"
      ],
      "metadata": {
        "colab": {
          "base_uri": "https://localhost:8080/"
        },
        "id": "iUvheIfwE_vB",
        "outputId": "03870734-d288-4e8e-e801-4767ad70ec30"
      },
      "execution_count": 8,
      "outputs": [
        {
          "output_type": "execute_result",
          "data": {
            "text/plain": [
              "{'kind': 'youtube#channel',\n",
              " 'etag': 'M7I-WcF_piUuz-EO-ChlGwcQ7lk',\n",
              " 'id': 'UCbk_QsfaFZG6PdQeCvaYXJQ',\n",
              " 'snippet': {'title': 'Jay Shetty Podcast',\n",
              "  'description': 'I’m Jay Shetty host of On Purpose the worlds #1 Mental Health podcast and I’m so grateful you found us. I started this podcast 5 years ago to invite you into conversations and workshops that are designed to help make you happier, healthier and more healed. \\n\\nI interview experts, celebrities, thought leaders and athletes so that we can grow our mindset, build better habits and uncover a side of them we’ve never seen before. \\n\\nClick the Subscribe button to help us spread the love with On Purpose.\\n\\n–\\nOrder My Books: \\nThink Like a Monk: https://thinklikeamonkbook.com/\\n8 Rules of Love https://8rulesoflove.com/\\n\\n–\\nFollow me on Social Media:\\nInstagram: https://www.instagram.com/jayshetty/\\nTiktok: https://www.tiktok.com/@jayshetty\\nFacebook: https://www.facebook.com/JayShettyIW/',\n",
              "  'customUrl': '@jayshettypodcast.',\n",
              "  'publishedAt': '2020-07-30T18:22:42.155606Z',\n",
              "  'thumbnails': {'default': {'url': 'https://yt3.ggpht.com/_cbhMUCXyXtacESy1DDO-psAYqM7YtAK5LUdOO8un73tzyvM0Ac9PJbUmc02CDwygdcpZXiH=s88-c-k-c0x00ffffff-no-rj',\n",
              "    'width': 88,\n",
              "    'height': 88},\n",
              "   'medium': {'url': 'https://yt3.ggpht.com/_cbhMUCXyXtacESy1DDO-psAYqM7YtAK5LUdOO8un73tzyvM0Ac9PJbUmc02CDwygdcpZXiH=s240-c-k-c0x00ffffff-no-rj',\n",
              "    'width': 240,\n",
              "    'height': 240},\n",
              "   'high': {'url': 'https://yt3.ggpht.com/_cbhMUCXyXtacESy1DDO-psAYqM7YtAK5LUdOO8un73tzyvM0Ac9PJbUmc02CDwygdcpZXiH=s800-c-k-c0x00ffffff-no-rj',\n",
              "    'width': 800,\n",
              "    'height': 800}},\n",
              "  'localized': {'title': 'Jay Shetty Podcast',\n",
              "   'description': 'I’m Jay Shetty host of On Purpose the worlds #1 Mental Health podcast and I’m so grateful you found us. I started this podcast 5 years ago to invite you into conversations and workshops that are designed to help make you happier, healthier and more healed. \\n\\nI interview experts, celebrities, thought leaders and athletes so that we can grow our mindset, build better habits and uncover a side of them we’ve never seen before. \\n\\nClick the Subscribe button to help us spread the love with On Purpose.\\n\\n–\\nOrder My Books: \\nThink Like a Monk: https://thinklikeamonkbook.com/\\n8 Rules of Love https://8rulesoflove.com/\\n\\n–\\nFollow me on Social Media:\\nInstagram: https://www.instagram.com/jayshetty/\\nTiktok: https://www.tiktok.com/@jayshetty\\nFacebook: https://www.facebook.com/JayShettyIW/'},\n",
              "  'country': 'US'},\n",
              " 'contentDetails': {'relatedPlaylists': {'likes': '',\n",
              "   'uploads': 'UUbk_QsfaFZG6PdQeCvaYXJQ'}},\n",
              " 'statistics': {'viewCount': '228008663',\n",
              "  'subscriberCount': '2700000',\n",
              "  'hiddenSubscriberCount': False,\n",
              "  'videoCount': '611'},\n",
              " 'topicDetails': {'topicIds': ['/m/02jjt', '/m/019_rr', '/m/0kt51'],\n",
              "  'topicCategories': ['https://en.wikipedia.org/wiki/Entertainment',\n",
              "   'https://en.wikipedia.org/wiki/Lifestyle_(sociology)',\n",
              "   'https://en.wikipedia.org/wiki/Health']},\n",
              " 'status': {'privacyStatus': 'public',\n",
              "  'isLinked': True,\n",
              "  'longUploadsStatus': 'longUploadsUnspecified',\n",
              "  'madeForKids': False},\n",
              " 'brandingSettings': {'channel': {'title': 'Jay Shetty Podcast',\n",
              "   'description': 'I’m Jay Shetty host of On Purpose the worlds #1 Mental Health podcast and I’m so grateful you found us. I started this podcast 5 years ago to invite you into conversations and workshops that are designed to help make you happier, healthier and more healed. \\n\\nI interview experts, celebrities, thought leaders and athletes so that we can grow our mindset, build better habits and uncover a side of them we’ve never seen before. \\n\\nClick the Subscribe button to help us spread the love with On Purpose.\\n\\n–\\nOrder My Books: \\nThink Like a Monk: https://thinklikeamonkbook.com/\\n8 Rules of Love https://8rulesoflove.com/\\n\\n–\\nFollow me on Social Media:\\nInstagram: https://www.instagram.com/jayshetty/\\nTiktok: https://www.tiktok.com/@jayshetty\\nFacebook: https://www.facebook.com/JayShettyIW/',\n",
              "   'keywords': '\"Jay Shetty\" \"Jay Shetty Podcast\" \"Jay Shetty Interview\" \"Jay Shetty motivation\" \"Jay Shetty inspiration\" \"Jay Shetty video\" \"On Purpose Podcast\" \"Self help\" \"self development\" \"self improvement\" motivation inspiration \"success interview\" \"jay shetty interview\" \"jay shetty speech\"',\n",
              "   'unsubscribedTrailer': 'X2vNGwMCw-M',\n",
              "   'country': 'US'},\n",
              "  'image': {'bannerExternalUrl': 'https://yt3.googleusercontent.com/3li1qNd8Mu4NTf5ug8gpfNNis5QsDiNpnbjOHsSVgXl4z6bLofP0eb7CTYz8g94iY_WzgO73yA'}}}"
            ]
          },
          "metadata": {},
          "execution_count": 8
        }
      ]
    },
    {
      "cell_type": "markdown",
      "source": [
        "# Getting info of VIDEOS Channel"
      ],
      "metadata": {
        "id": "SrGm5nh1sqis"
      }
    },
    {
      "cell_type": "code",
      "source": [
        "VIDEOS = []\n",
        "\n",
        "for video in tqdm (client.channel_videos(\"https://www.youtube.com/@JayShettyPodcast.\", raw = True)):\n",
        "  VIDEOS.append(video)\n",
        "\n",
        "len(VIDEOS) # Channel has 611 videos"
      ],
      "metadata": {
        "colab": {
          "base_uri": "https://localhost:8080/",
          "height": 66,
          "referenced_widgets": [
            "3b3f3503fae440b09fe9ee726163cb7d",
            "ec04ae650f4249f693da20287d0482b9",
            "427bae021199449cbbb4632c7304eaf8",
            "017248d5ca2c42fbbdcbc7058a92ec1f",
            "4682fb0af6b54b9096dc11f75d295761",
            "43c49c3c68dd48eb855902ee8bf1a519",
            "3a5061531b6f4e0eb9a1b3d8c6aa2fb4",
            "3eeb82284f244b2987fbb1c48950e6d7",
            "8130493a8ce644f48eae7baac9723b15",
            "c3307e299bef4dbe9f56680f38b442ec",
            "3948e1cee0b5458d858b64263ea694bc"
          ]
        },
        "id": "yyAF_2azFvVU",
        "outputId": "36f46ee2-0b0b-41a4-8170-7674093fe9df"
      },
      "execution_count": 9,
      "outputs": [
        {
          "output_type": "display_data",
          "data": {
            "text/plain": [
              "0it [00:00, ?it/s]"
            ],
            "application/vnd.jupyter.widget-view+json": {
              "version_major": 2,
              "version_minor": 0,
              "model_id": "3b3f3503fae440b09fe9ee726163cb7d"
            }
          },
          "metadata": {}
        },
        {
          "output_type": "execute_result",
          "data": {
            "text/plain": [
              "611"
            ]
          },
          "metadata": {},
          "execution_count": 9
        }
      ]
    },
    {
      "cell_type": "code",
      "source": [
        "videos_saved = VIDEOS"
      ],
      "metadata": {
        "id": "izKKMdH16T88"
      },
      "execution_count": 11,
      "outputs": []
    },
    {
      "cell_type": "code",
      "source": [
        "VIDEO_IDS = []\n",
        "\n",
        "for video in VIDEOS:\n",
        " video_id = video['snippet']['resourceId']['videoId']\n",
        " print(video_id)\n",
        " VIDEO_IDS.append(video_id)\n",
        "\n",
        "assert len(VIDEOS) == len(VIDEO_IDS)"
      ],
      "metadata": {
        "id": "mS76o2yCGfEb"
      },
      "execution_count": null,
      "outputs": []
    },
    {
      "cell_type": "code",
      "source": [
        "video_ids_saved = VIDEO_IDS"
      ],
      "metadata": {
        "id": "x9BGfNep6nY6"
      },
      "execution_count": 13,
      "outputs": []
    },
    {
      "cell_type": "code",
      "source": [
        "ENRICHED_VIDEOS = []\n",
        "\n",
        "for video_id, video in tqdm(client.videos(VIDEO_IDS, raw = True)):\n",
        "  ENRICHED_VIDEOS.append(video)\n",
        "\n",
        "len(ENRICHED_VIDEOS)\n",
        "\n"
      ],
      "metadata": {
        "colab": {
          "base_uri": "https://localhost:8080/",
          "height": 66,
          "referenced_widgets": [
            "1dc0ba637b51467e9750b39f6358f874",
            "4ddd55d997ee4a408f718d42903489f6",
            "54b7b505c79b44e3a08fcaf94cb3eddd",
            "f41883ae10f74fb2bcd842f22dd402d5",
            "08bed5eadfe14e96841c2d9059e7e214",
            "2a0294f8200c4e4aad2b8cbc51bc3a99",
            "28b1fa4822e14aaa9592a272be7a8440",
            "a8b0f1ec761b45e185f27647b1bc0d84",
            "d02ec563bdfe4aeea0ef1fa3aca525f3",
            "d7860b74426749cfab516c8995b7e42b",
            "2229b64faa784c99ad9446a904d0e2ba"
          ]
        },
        "id": "GUVPCwZcKdHr",
        "outputId": "14181bba-42ae-4bb3-b84c-81adc7ce1450"
      },
      "execution_count": 11,
      "outputs": [
        {
          "output_type": "display_data",
          "data": {
            "text/plain": [
              "0it [00:00, ?it/s]"
            ],
            "application/vnd.jupyter.widget-view+json": {
              "version_major": 2,
              "version_minor": 0,
              "model_id": "1dc0ba637b51467e9750b39f6358f874"
            }
          },
          "metadata": {}
        },
        {
          "output_type": "execute_result",
          "data": {
            "text/plain": [
              "611"
            ]
          },
          "metadata": {},
          "execution_count": 11
        }
      ]
    },
    {
      "cell_type": "code",
      "source": [
        "ENRICHED_VIDEOS[500]"
      ],
      "metadata": {
        "id": "AZzWta23MuZO",
        "colab": {
          "base_uri": "https://localhost:8080/"
        },
        "outputId": "d050a9cf-cb00-44fe-b179-e2975ec5fbe3"
      },
      "execution_count": 15,
      "outputs": [
        {
          "output_type": "execute_result",
          "data": {
            "text/plain": [
              "{'kind': 'youtube#video',\n",
              " 'etag': 'ZRnwgb6n11dK1-xWYOX8mFaz0Nk',\n",
              " 'id': 'vK9PNz3tf0M',\n",
              " 'snippet': {'publishedAt': '2021-10-18T11:00:34Z',\n",
              "  'channelId': 'UCbk_QsfaFZG6PdQeCvaYXJQ',\n",
              "  'title': 'Jane Goodall ON: Winning the War on Nature & How Simple Actions Make Big Changes',\n",
              "  'description': \"Jane Goodall sits down with Jay Shetty to talk about her passion and love for nature and wildlife. She believes that all of us have the power to make a difference around us and impact our surroundings significantly. And as we continue to hope in the most trying times of our lives, when we take action, this hope turns into change, into a success, and into a celebration.  \\n\\nJane is an ethologist known for her long-term research on the chimpanzees of Tanzania's Gombe Stream National Park. In 1995, the University of Cambridge awarded her a Ph.D. in ethology, one of the few candidates to receive a Ph.D. without having first possessed an A.B. degree. She established the Jane Goodall Institute to help support the Gombe research and the Roots & Shoots program for the youth to actively participate in environmental, conservation and humanitarian issues.\\n\\nAchieve success in every area of your life with Jay Shetty’s Genius Community. Join over 10,000 members taking their holistic well-being to the next level today, at https://shetty.cc/OnPurposeGenius\\n\\nWhat We Discuss:\\n\\n00:00 Intro\\n02:19 Parental support molds us\\n04:59 “Because you did it, I can do it too.”\\n07:34 We live in a war against nature\\n10:22 Everyone of us makes an impact on the planet\\n12:58 A language of gesture that predated human spoken language\\n18:49 Living through a time when it totally seemed hopeless\\n22:53 The only way to give hope to others is to help them\\n24:48 Hope is about action\\n28:00 First, see that you can make a difference locally\\n32:04 You don’t have to change everything on your own\\n36:35 We communicate through our words\\n39:23 What’s your definition of success?\\n42:28 Unless we live for money to help make a difference\\n46:40 The Survivor Tree story\\n50:42 Messengers of hope need to be storytellers\\n54:00 Influential people inspire more people to make a difference\\n54:48 Jane on Final Five\",\n",
              "  'thumbnails': {'default': {'url': 'https://i.ytimg.com/vi/vK9PNz3tf0M/default.jpg',\n",
              "    'width': 120,\n",
              "    'height': 90},\n",
              "   'medium': {'url': 'https://i.ytimg.com/vi/vK9PNz3tf0M/mqdefault.jpg',\n",
              "    'width': 320,\n",
              "    'height': 180},\n",
              "   'high': {'url': 'https://i.ytimg.com/vi/vK9PNz3tf0M/hqdefault.jpg',\n",
              "    'width': 480,\n",
              "    'height': 360},\n",
              "   'standard': {'url': 'https://i.ytimg.com/vi/vK9PNz3tf0M/sddefault.jpg',\n",
              "    'width': 640,\n",
              "    'height': 480},\n",
              "   'maxres': {'url': 'https://i.ytimg.com/vi/vK9PNz3tf0M/maxresdefault.jpg',\n",
              "    'width': 1280,\n",
              "    'height': 720}},\n",
              "  'channelTitle': 'Jay Shetty Podcast',\n",
              "  'tags': ['Jay Shetty',\n",
              "   'Jay Shetty Podcast',\n",
              "   'Jay Shetty Interview',\n",
              "   'On Purpose Podcast',\n",
              "   'Jay Shetty Inspiration',\n",
              "   'Jay Shetty Motivation',\n",
              "   'Jay Shetty Video',\n",
              "   'Self help',\n",
              "   'Self improvement',\n",
              "   'Self development',\n",
              "   'entrepreneur',\n",
              "   'success habits',\n",
              "   'purpose podcast',\n",
              "   'Jay Shetty relationships'],\n",
              "  'categoryId': '27',\n",
              "  'liveBroadcastContent': 'none',\n",
              "  'localized': {'title': 'Jane Goodall ON: Winning the War on Nature & How Simple Actions Make Big Changes',\n",
              "   'description': \"Jane Goodall sits down with Jay Shetty to talk about her passion and love for nature and wildlife. She believes that all of us have the power to make a difference around us and impact our surroundings significantly. And as we continue to hope in the most trying times of our lives, when we take action, this hope turns into change, into a success, and into a celebration.  \\n\\nJane is an ethologist known for her long-term research on the chimpanzees of Tanzania's Gombe Stream National Park. In 1995, the University of Cambridge awarded her a Ph.D. in ethology, one of the few candidates to receive a Ph.D. without having first possessed an A.B. degree. She established the Jane Goodall Institute to help support the Gombe research and the Roots & Shoots program for the youth to actively participate in environmental, conservation and humanitarian issues.\\n\\nAchieve success in every area of your life with Jay Shetty’s Genius Community. Join over 10,000 members taking their holistic well-being to the next level today, at https://shetty.cc/OnPurposeGenius\\n\\nWhat We Discuss:\\n\\n00:00 Intro\\n02:19 Parental support molds us\\n04:59 “Because you did it, I can do it too.”\\n07:34 We live in a war against nature\\n10:22 Everyone of us makes an impact on the planet\\n12:58 A language of gesture that predated human spoken language\\n18:49 Living through a time when it totally seemed hopeless\\n22:53 The only way to give hope to others is to help them\\n24:48 Hope is about action\\n28:00 First, see that you can make a difference locally\\n32:04 You don’t have to change everything on your own\\n36:35 We communicate through our words\\n39:23 What’s your definition of success?\\n42:28 Unless we live for money to help make a difference\\n46:40 The Survivor Tree story\\n50:42 Messengers of hope need to be storytellers\\n54:00 Influential people inspire more people to make a difference\\n54:48 Jane on Final Five\"},\n",
              "  'defaultAudioLanguage': 'en-US'},\n",
              " 'contentDetails': {'duration': 'PT56M44S',\n",
              "  'dimension': '2d',\n",
              "  'definition': 'hd',\n",
              "  'caption': 'false',\n",
              "  'licensedContent': True,\n",
              "  'contentRating': {},\n",
              "  'projection': 'rectangular'},\n",
              " 'statistics': {'viewCount': '29438',\n",
              "  'likeCount': '1172',\n",
              "  'favoriteCount': '0',\n",
              "  'commentCount': '68'},\n",
              " 'topicDetails': {'topicCategories': ['https://en.wikipedia.org/wiki/Health',\n",
              "   'https://en.wikipedia.org/wiki/Society']}}"
            ]
          },
          "metadata": {},
          "execution_count": 15
        }
      ]
    },
    {
      "cell_type": "code",
      "source": [
        "COMMENTED_VIDEO_IDS = []\n",
        "for video in ENRICHED_VIDEOS:\n",
        "  comment_count = int(video[\"statistics\"].get(\"commentCount\", 0))\n",
        "\n",
        "  if comment_count > 0:\n",
        "    COMMENTED_VIDEO_IDS.append(video['id'])\n",
        "\n",
        "len(COMMENTED_VIDEO_IDS) #All 611 videos have comments"
      ],
      "metadata": {
        "colab": {
          "base_uri": "https://localhost:8080/"
        },
        "id": "LUkEFFLSDvyz",
        "outputId": "10c7877a-94ed-450b-d81f-da9685a75cc4"
      },
      "execution_count": 12,
      "outputs": [
        {
          "output_type": "execute_result",
          "data": {
            "text/plain": [
              "611"
            ]
          },
          "metadata": {},
          "execution_count": 12
        }
      ]
    },
    {
      "cell_type": "code",
      "source": [
        "COMMENTS = []\n",
        "\n",
        "for commented_video_id in tqdm(COMMENTED_VIDEO_IDS):\n",
        "  for comment in client.comments(commented_video_id, raw = True):\n",
        "    COMMENTS.append(comment)\n",
        "\n",
        "len(COMMENTS)"
      ],
      "metadata": {
        "colab": {
          "base_uri": "https://localhost:8080/",
          "height": 66,
          "referenced_widgets": [
            "aca7cdf03ef3431491504cc0395ab751",
            "839f60c0a4b24093a5f32eeb685967eb",
            "dd30ac1ac40044ae8ce4057de350c00e",
            "a93bb38d76bd4f63b22ace8df9dbe10f",
            "4a0347cee1b747c087a6972446288a39",
            "50b15eb1d869416ca3d6a28f01315757",
            "c4c8af7351984f1db64bef0b359b77bd",
            "a2287704a18447c59ae34d3de2469d07",
            "897ba1601d974a65b0c3373ad717b867",
            "b773b5d1ae394b63bd0fdc9c5069d9d6",
            "baef4281444c421a9518c435beb416a6"
          ]
        },
        "id": "vxLxE70iOlzH",
        "outputId": "9e450f22-3f16-415b-f53e-3816e403aa5e"
      },
      "execution_count": 16,
      "outputs": [
        {
          "output_type": "display_data",
          "data": {
            "text/plain": [
              "  0%|          | 0/611 [00:00<?, ?it/s]"
            ],
            "application/vnd.jupyter.widget-view+json": {
              "version_major": 2,
              "version_minor": 0,
              "model_id": "aca7cdf03ef3431491504cc0395ab751"
            }
          },
          "metadata": {}
        },
        {
          "output_type": "execute_result",
          "data": {
            "text/plain": [
              "201763"
            ]
          },
          "metadata": {},
          "execution_count": 16
        }
      ]
    },
    {
      "cell_type": "markdown",
      "source": [
        "## Saving info as json file"
      ],
      "metadata": {
        "id": "_y-E_v1L89WO"
      }
    },
    {
      "cell_type": "code",
      "source": [
        "import json\n"
      ],
      "metadata": {
        "id": "i4RXji91_Xf0"
      },
      "execution_count": 13,
      "outputs": []
    },
    {
      "cell_type": "code",
      "source": [
        "json_data = json.dumps(COMMENTS, indent=4)\n",
        "\n",
        "\n",
        "output_json_file = \"comments_data.json\"\n",
        "\n",
        "with open(output_json_file, 'w') as json_file:\n",
        "    json_file.write(json_data)"
      ],
      "metadata": {
        "id": "IUhzMtVw82OL"
      },
      "execution_count": 17,
      "outputs": []
    },
    {
      "cell_type": "code",
      "source": [
        "json_file_path = \"comments_data.json\"\n",
        "\n",
        "with open(json_file_path, 'r') as json_file:\n",
        "    comments_data = json.load(json_file)\n",
        "\n",
        "print(\"First comment:\", comments_data[0])\n"
      ],
      "metadata": {
        "colab": {
          "base_uri": "https://localhost:8080/"
        },
        "id": "O3gSHZCzAkzD",
        "outputId": "2985384c-2269-45ba-8492-f718a3e2ef1e"
      },
      "execution_count": 18,
      "outputs": [
        {
          "output_type": "stream",
          "name": "stdout",
          "text": [
            "First comment: {'kind': 'youtube#commentThread', 'etag': 'tiQWawW0d7hoc-K3Ym9TtbTA60k', 'id': 'UgzN7FPnKGrp6zMSQxl4AaABAg', 'snippet': {'channelId': 'UCbk_QsfaFZG6PdQeCvaYXJQ', 'videoId': '_wp1ESUaKxI', 'topLevelComment': {'kind': 'youtube#comment', 'etag': '22oF0ZKGBxBuwZ0zvw9HvlJVWhQ', 'id': 'UgzN7FPnKGrp6zMSQxl4AaABAg', 'snippet': {'channelId': 'UCbk_QsfaFZG6PdQeCvaYXJQ', 'videoId': '_wp1ESUaKxI', 'textDisplay': 'Missing the feelings! Not the person! That is why they are the Ex!! Lesson or Blessing??🕊🙏', 'textOriginal': 'Missing the feelings! Not the person! That is why they are the Ex!! Lesson or Blessing??🕊🙏', 'authorDisplayName': '@user-dr6vj8ez9q', 'authorProfileImageUrl': 'https://yt3.ggpht.com/ytc/AIdro_lImWjpMrIvdRovD-M6t404B4iy4JtBgKSvugbuhj_RH1T6wD48Xs1RhVDJF9ywMr1Udg=s48-c-k-c0x00ffffff-no-rj', 'authorChannelUrl': 'http://www.youtube.com/@user-dr6vj8ez9q', 'authorChannelId': {'value': 'UCiwAZ84xHD5i_ww0vtQgcGg'}, 'canRate': True, 'viewerRating': 'none', 'likeCount': 0, 'publishedAt': '2024-05-04T23:23:45Z', 'updatedAt': '2024-05-04T23:23:45Z'}}, 'canReply': True, 'totalReplyCount': 0, 'isPublic': True}}\n"
          ]
        }
      ]
    },
    {
      "cell_type": "code",
      "source": [
        "comments_data[0]['snippet']['topLevelComment']['snippet']['textDisplay']"
      ],
      "metadata": {
        "colab": {
          "base_uri": "https://localhost:8080/",
          "height": 36
        },
        "id": "aznXNod9x2TE",
        "outputId": "389f30b3-1fe1-4143-ecce-ad4a66b07b80"
      },
      "execution_count": 19,
      "outputs": [
        {
          "output_type": "execute_result",
          "data": {
            "text/plain": [
              "'Missing the feelings! Not the person! That is why they are the Ex!! Lesson or Blessing??🕊🙏'"
            ],
            "application/vnd.google.colaboratory.intrinsic+json": {
              "type": "string"
            }
          },
          "metadata": {},
          "execution_count": 19
        }
      ]
    },
    {
      "cell_type": "markdown",
      "source": [
        "# Analyzing comments of the Channel\n",
        "\n",
        "The following methods didn't work in my pc:\n",
        "comment = max(COMMENTS, key=lambda c: c.like_count)\n",
        "comment.text, comment.like_count, comment.author_name\n",
        "\n",
        "In that sense, I proceded to find other ways to obtain the necessary information about comments, authors and likes from the YouTube channel."
      ],
      "metadata": {
        "id": "qQgsTa8CuPDq"
      }
    },
    {
      "cell_type": "code",
      "source": [
        "import statistics"
      ],
      "metadata": {
        "id": "4BLYwlFvO1Me"
      },
      "execution_count": 20,
      "outputs": []
    },
    {
      "cell_type": "code",
      "source": [
        "like_counts = []\n",
        "\n",
        "for comment in comments_data:\n",
        "\n",
        "  if 'topLevelComment' in comment.get('snippet', {}): #Checking for top-level comments\n",
        "\n",
        "      like_count = comment['snippet']['topLevelComment']['snippet'].get('likeCount')\n",
        "      like_counts.append(like_count) #Getting like counts and adding to the list\n",
        "\n",
        "mean_likes = statistics.mean(like_counts)\n",
        "min_likes = min(like_counts)\n",
        "max_likes = max(like_counts)\n",
        "\n",
        "#Obtaining the index (position) of the less and most liked comment\n",
        "max_liked_idx = like_counts.index(max_likes)\n",
        "min_liked_idx = like_counts.index(min_likes)\n",
        "\n"
      ],
      "metadata": {
        "id": "8wFQ4blbuZvP"
      },
      "execution_count": 26,
      "outputs": []
    },
    {
      "cell_type": "code",
      "source": [
        "mean_likes, min_likes, max_likes #In average comments have aprox 13 likes and they can have from 0 likes up to 80825 likes"
      ],
      "metadata": {
        "colab": {
          "base_uri": "https://localhost:8080/"
        },
        "id": "IY3fPssb8oFx",
        "outputId": "60fb2131-3c12-4c3a-ac7c-a07766830373"
      },
      "execution_count": 24,
      "outputs": [
        {
          "output_type": "execute_result",
          "data": {
            "text/plain": [
              "(12.733428224220004, 0, 80825)"
            ]
          },
          "metadata": {},
          "execution_count": 24
        }
      ]
    },
    {
      "cell_type": "code",
      "source": [
        "#Getting the most liked comment\n",
        "\n",
        "best_comment = comments_data[max_liked_idx] #using the index of the highest like number to identify the comment\n",
        "\n",
        "print(best_comment['snippet']['topLevelComment']['snippet']['textDisplay'])#Getting the text of the comment\n",
        "best_comment_videoid = best_comment['snippet']['topLevelComment']['snippet']['videoId'] #Getting the id of the video where the comment is\n",
        "\n",
        "bestvid_idx = COMMENTED_VIDEO_IDS.index(best_comment_videoid) #finding the index of the video id\n",
        "ENRICHED_VIDEOS[bestvid_idx] #using the index to find the video with the best comment in ENRICHED VIDEOS\n",
        "\n",
        "\n",
        "\n",
        "#The comment with more likes is part of a \"shorts\" video called \"Mark Wahlberg's bad advice to Tom Holland\""
      ],
      "metadata": {
        "id": "DvobeM_vxsti",
        "colab": {
          "base_uri": "https://localhost:8080/"
        },
        "outputId": "720cf516-8a15-4e57-8a6a-c16c6d66a702"
      },
      "execution_count": 27,
      "outputs": [
        {
          "output_type": "stream",
          "name": "stdout",
          "text": [
            "He prolly said it cuz Tom looks😅 stressed out a lot lol\n"
          ]
        },
        {
          "output_type": "execute_result",
          "data": {
            "text/plain": [
              "{'kind': 'youtube#video',\n",
              " 'etag': 'NYZaLo94sRZTcJf5aDbJJAVt6XQ',\n",
              " 'id': 'HhtRcSeiXnU',\n",
              " 'snippet': {'publishedAt': '2023-07-10T15:00:14Z',\n",
              "  'channelId': 'UCbk_QsfaFZG6PdQeCvaYXJQ',\n",
              "  'title': \"Mark Wahlberg's bad advice to Tom Holland #shorts\",\n",
              "  'description': '#tomholland #jayshetty #markwahlberg #funnyclips',\n",
              "  'thumbnails': {'default': {'url': 'https://i.ytimg.com/vi/HhtRcSeiXnU/default.jpg',\n",
              "    'width': 120,\n",
              "    'height': 90},\n",
              "   'medium': {'url': 'https://i.ytimg.com/vi/HhtRcSeiXnU/mqdefault.jpg',\n",
              "    'width': 320,\n",
              "    'height': 180},\n",
              "   'high': {'url': 'https://i.ytimg.com/vi/HhtRcSeiXnU/hqdefault.jpg',\n",
              "    'width': 480,\n",
              "    'height': 360},\n",
              "   'standard': {'url': 'https://i.ytimg.com/vi/HhtRcSeiXnU/sddefault.jpg',\n",
              "    'width': 640,\n",
              "    'height': 480},\n",
              "   'maxres': {'url': 'https://i.ytimg.com/vi/HhtRcSeiXnU/maxresdefault.jpg',\n",
              "    'width': 1280,\n",
              "    'height': 720}},\n",
              "  'channelTitle': 'Jay Shetty Podcast',\n",
              "  'tags': ['Jay Shetty',\n",
              "   'Jay Shetty Podcast',\n",
              "   'Jay Shetty Interview',\n",
              "   'On Purpose Podcast',\n",
              "   'Jay Shetty Inspiration',\n",
              "   'Jay Shetty Motivation',\n",
              "   'Jay Shetty Video',\n",
              "   'Self help',\n",
              "   'Self improvement',\n",
              "   'Self development',\n",
              "   'entrepreneur',\n",
              "   'success habits',\n",
              "   'purpose podcast',\n",
              "   'Jay Shetty relationships'],\n",
              "  'categoryId': '27',\n",
              "  'liveBroadcastContent': 'none',\n",
              "  'localized': {'title': \"Mark Wahlberg's bad advice to Tom Holland #shorts\",\n",
              "   'description': '#tomholland #jayshetty #markwahlberg #funnyclips'},\n",
              "  'defaultAudioLanguage': 'en-US'},\n",
              " 'contentDetails': {'duration': 'PT9S',\n",
              "  'dimension': '2d',\n",
              "  'definition': 'hd',\n",
              "  'caption': 'false',\n",
              "  'licensedContent': True,\n",
              "  'contentRating': {},\n",
              "  'projection': 'rectangular'},\n",
              " 'statistics': {'viewCount': '10666555',\n",
              "  'likeCount': '444629',\n",
              "  'favoriteCount': '0',\n",
              "  'commentCount': '2055'},\n",
              " 'topicDetails': {'topicCategories': ['https://en.wikipedia.org/wiki/Entertainment']}}"
            ]
          },
          "metadata": {},
          "execution_count": 27
        }
      ]
    },
    {
      "cell_type": "markdown",
      "source": [
        "## Compulsory element 1: Mean and median of both view and likes counts for all the collected videos"
      ],
      "metadata": {
        "id": "yfrCzPB0ynIj"
      }
    },
    {
      "cell_type": "code",
      "source": [
        "VIEWS_VIDEOS = [] #Getting the views of each video\n",
        "\n",
        "for video in ENRICHED_VIDEOS:\n",
        "  view_count_video = int(video[\"statistics\"].get(\"viewCount\", 0))\n",
        "  VIEWS_VIDEOS.append(view_count_video)\n",
        "\n",
        "print(statistics.mean(VIEWS_VIDEOS)) #the channel has approximately 373403 views on average per video\n",
        "print(statistics.median(VIEWS_VIDEOS)) #the median of views is 48911\n"
      ],
      "metadata": {
        "colab": {
          "base_uri": "https://localhost:8080/"
        },
        "id": "w2udgu3oymUY",
        "outputId": "2b408909-3a42-400c-c14d-56442c4d9863"
      },
      "execution_count": 29,
      "outputs": [
        {
          "output_type": "stream",
          "name": "stdout",
          "text": [
            "373403.0261865794\n",
            "48911\n"
          ]
        }
      ]
    },
    {
      "cell_type": "code",
      "source": [
        "import matplotlib.pyplot as plt\n",
        "plt.hist(VIEWS_VIDEOS,bins=100,range=(0,1000000))\n",
        "plt.ylabel('counts')\n",
        "plt.xlabel('Views')\n",
        "plt.xlim(0,1000000)\n",
        "\n",
        "#The distr of views is asymmetrical so few videos have more than a million views and lots of videos are under 200000 views.\n",
        "\n",
        "#This also explains why the median is much smaller than the average views."
      ],
      "metadata": {
        "colab": {
          "base_uri": "https://localhost:8080/",
          "height": 466
        },
        "id": "ewG7A-t-XBgc",
        "outputId": "b4b386a5-fa58-45d9-8718-d6b6bf2997e4"
      },
      "execution_count": 30,
      "outputs": [
        {
          "output_type": "execute_result",
          "data": {
            "text/plain": [
              "(0.0, 1000000.0)"
            ]
          },
          "metadata": {},
          "execution_count": 30
        },
        {
          "output_type": "display_data",
          "data": {
            "text/plain": [
              "<Figure size 640x480 with 1 Axes>"
            ],
            "image/png": "[encoded data removed]"
          },
          "metadata": {}
        }
      ]
    },
    {
      "cell_type": "code",
      "source": [
        "LIKE_VIDEOS = []\n",
        "\n",
        "for like in ENRICHED_VIDEOS:\n",
        "  like_count_video = int(like[\"statistics\"].get(\"likeCount\", 0))\n",
        "  LIKE_VIDEOS.append(like_count_video)\n",
        "\n",
        "print(statistics.mean(LIKE_VIDEOS)) #The channel has approximately 11221 likes on average per video\n",
        "print(statistics.median(LIKE_VIDEOS)) #The median of likes is 2052"
      ],
      "metadata": {
        "colab": {
          "base_uri": "https://localhost:8080/"
        },
        "id": "00ejEW7bb3Lk",
        "outputId": "fd1e3b96-069a-4353-b381-c19deb32401a"
      },
      "execution_count": 33,
      "outputs": [
        {
          "output_type": "stream",
          "name": "stdout",
          "text": [
            "11220.95744680851\n",
            "2052\n"
          ]
        }
      ]
    },
    {
      "cell_type": "code",
      "source": [
        "plt.hist(LIKE_VIDEOS,bins=100)\n",
        "plt.ylabel('counts')\n",
        "plt.xlabel('likes')\n",
        "#The distribution of likes is similar to the distribution of views so we can infer they are correlated"
      ],
      "metadata": {
        "colab": {
          "base_uri": "https://localhost:8080/",
          "height": 466
        },
        "id": "WHVVQGhYdmph",
        "outputId": "48bb3553-23bb-4f3d-e4a6-cf834ea535bc"
      },
      "execution_count": 34,
      "outputs": [
        {
          "output_type": "execute_result",
          "data": {
            "text/plain": [
              "Text(0.5, 0, 'likes')"
            ]
          },
          "metadata": {},
          "execution_count": 34
        },
        {
          "output_type": "display_data",
          "data": {
            "text/plain": [
              "<Figure size 640x480 with 1 Axes>"
            ],
            "image/png": "[encoded data removed]"
          },
          "metadata": {}
        }
      ]
    },
    {
      "cell_type": "markdown",
      "source": [
        "#Compulsory element 2: Finding the comment authors\n",
        "\n",
        "\n"
      ],
      "metadata": {
        "id": "Afcyl_iJwt1g"
      }
    },
    {
      "cell_type": "code",
      "source": [
        "COMMENTS[0]"
      ],
      "metadata": {
        "colab": {
          "base_uri": "https://localhost:8080/"
        },
        "id": "vUNnaopd7cX4",
        "outputId": "965bd22a-99e8-452d-bd53-5dcc86dd96a4"
      },
      "execution_count": 35,
      "outputs": [
        {
          "output_type": "execute_result",
          "data": {
            "text/plain": [
              "{'kind': 'youtube#commentThread',\n",
              " 'etag': 'tiQWawW0d7hoc-K3Ym9TtbTA60k',\n",
              " 'id': 'UgzN7FPnKGrp6zMSQxl4AaABAg',\n",
              " 'snippet': {'channelId': 'UCbk_QsfaFZG6PdQeCvaYXJQ',\n",
              "  'videoId': '_wp1ESUaKxI',\n",
              "  'topLevelComment': {'kind': 'youtube#comment',\n",
              "   'etag': '22oF0ZKGBxBuwZ0zvw9HvlJVWhQ',\n",
              "   'id': 'UgzN7FPnKGrp6zMSQxl4AaABAg',\n",
              "   'snippet': {'channelId': 'UCbk_QsfaFZG6PdQeCvaYXJQ',\n",
              "    'videoId': '_wp1ESUaKxI',\n",
              "    'textDisplay': 'Missing the feelings! Not the person! That is why they are the Ex!! Lesson or Blessing??🕊🙏',\n",
              "    'textOriginal': 'Missing the feelings! Not the person! That is why they are the Ex!! Lesson or Blessing??🕊🙏',\n",
              "    'authorDisplayName': '@user-dr6vj8ez9q',\n",
              "    'authorProfileImageUrl': 'https://yt3.ggpht.com/ytc/AIdro_lImWjpMrIvdRovD-M6t404B4iy4JtBgKSvugbuhj_RH1T6wD48Xs1RhVDJF9ywMr1Udg=s48-c-k-c0x00ffffff-no-rj',\n",
              "    'authorChannelUrl': 'http://www.youtube.com/@user-dr6vj8ez9q',\n",
              "    'authorChannelId': {'value': 'UCiwAZ84xHD5i_ww0vtQgcGg'},\n",
              "    'canRate': True,\n",
              "    'viewerRating': 'none',\n",
              "    'likeCount': 0,\n",
              "    'publishedAt': '2024-05-04T23:23:45Z',\n",
              "    'updatedAt': '2024-05-04T23:23:45Z'}},\n",
              "  'canReply': True,\n",
              "  'totalReplyCount': 0,\n",
              "  'isPublic': True}}"
            ]
          },
          "metadata": {},
          "execution_count": 35
        }
      ]
    },
    {
      "cell_type": "code",
      "source": [
        "# Let's get to know the commenters\n",
        "from collections import Counter\n",
        "\n",
        "commenters_by_comment_count = Counter()\n",
        "commenters_by_like_count = Counter()\n",
        "\n",
        "for comment in COMMENTS:\n",
        "\n",
        "   if 'topLevelComment' in comment.get('snippet', {}):\n",
        "\n",
        "    author = comment['snippet']['topLevelComment']['snippet'].get('authorDisplayName') #Extracting the author's display name\n",
        "    like_count = comment['snippet']['topLevelComment']['snippet'].get('likeCount')\n",
        "\n",
        "    #Counting comments and likes per author\n",
        "    commenters_by_comment_count[author] += 1\n",
        "    commenters_by_like_count[author] += like_count\n"
      ],
      "metadata": {
        "id": "IvyZ99wc3GaT"
      },
      "execution_count": 41,
      "outputs": []
    },
    {
      "cell_type": "code",
      "source": [
        "commenters_by_comment_count.most_common(5)"
      ],
      "metadata": {
        "colab": {
          "base_uri": "https://localhost:8080/"
        },
        "id": "6qGaTYcG-ZX3",
        "outputId": "c514e059-9e06-4fc4-b8b3-c514fb883b2b"
      },
      "execution_count": 42,
      "outputs": [
        {
          "output_type": "execute_result",
          "data": {
            "text/plain": [
              "[('@gracejasinthpriyadarsini2489', 331),\n",
              " ('@andreonline113', 158),\n",
              " ('@AhmetKaan', 142),\n",
              " ('@nathanleung5592', 105),\n",
              " ('@keelyevans7692', 101)]"
            ]
          },
          "metadata": {},
          "execution_count": 42
        }
      ]
    },
    {
      "cell_type": "code",
      "source": [
        "commenters_by_like_count.most_common(5)"
      ],
      "metadata": {
        "colab": {
          "base_uri": "https://localhost:8080/"
        },
        "id": "cVBJ7eHa-3DP",
        "outputId": "4df43a92-f9e1-42cd-dde1-eaf11341121f"
      },
      "execution_count": 43,
      "outputs": [
        {
          "output_type": "execute_result",
          "data": {
            "text/plain": [
              "[('@PowerfulChanges', 80825),\n",
              " ('@RastaHenkie', 62507),\n",
              " ('@tech_rn', 60552),\n",
              " ('@FHector4', 38482),\n",
              " ('@NickThiller', 37447)]"
            ]
          },
          "metadata": {},
          "execution_count": 43
        }
      ]
    },
    {
      "cell_type": "code",
      "source": [
        "# Let's find the videos commented by @gracejasinthpriyadarsini2489 the author that comments the most\n",
        "VIDEO_INDEX = {}\n",
        "\n",
        "for video in ENRICHED_VIDEOS:\n",
        "    VIDEO_INDEX[video[\"id\"]] = video\n",
        "\n",
        "len(VIDEO_INDEX)"
      ],
      "metadata": {
        "colab": {
          "base_uri": "https://localhost:8080/"
        },
        "id": "sEBDbsBaBIUo",
        "outputId": "abd3d81c-3606-4ce1-8572-6f1fb69f7448"
      },
      "execution_count": 45,
      "outputs": [
        {
          "output_type": "execute_result",
          "data": {
            "text/plain": [
              "611"
            ]
          },
          "metadata": {},
          "execution_count": 45
        }
      ]
    },
    {
      "cell_type": "code",
      "source": [
        "user_videos = Counter()\n",
        "\n",
        "for comment in COMMENTS:\n",
        "  if 'topLevelComment' in comment.get('snippet', {}):\n",
        "    author = comment['snippet']['topLevelComment']['snippet'].get('authorDisplayName')\n",
        "    if author == \"@gracejasinthpriyadarsini2489\":\n",
        "      video_id = comment['snippet']['topLevelComment']['snippet']['videoId']\n",
        "      user_videos[video_id] += 1"
      ],
      "metadata": {
        "id": "sU2wr2yfBO2U"
      },
      "execution_count": 51,
      "outputs": []
    },
    {
      "cell_type": "code",
      "source": [
        "user_videos.most_common(5)"
      ],
      "metadata": {
        "colab": {
          "base_uri": "https://localhost:8080/"
        },
        "id": "jnrR3G3HBfek",
        "outputId": "fae298b4-99c0-4f99-aca3-c7722c9ee986"
      },
      "execution_count": 52,
      "outputs": [
        {
          "output_type": "execute_result",
          "data": {
            "text/plain": [
              "[('_qU3LmhSJW4', 52),\n",
              " ('PrhZQrn2Q-4', 13),\n",
              " ('reETYuC02Ys', 10),\n",
              " ('5gpYqkZTkrU', 9),\n",
              " ('AxFrNr7ZHug', 9)]"
            ]
          },
          "metadata": {},
          "execution_count": 52
        }
      ]
    },
    {
      "cell_type": "code",
      "source": [
        "# Let's investigate @gracejasinthpriyadarsini2489\n",
        "\n",
        "for comment in COMMENTS:\n",
        "  if 'topLevelComment' in comment.get('snippet', {}):\n",
        "    author = comment['snippet']['topLevelComment']['snippet'].get('authorDisplayName')\n",
        "\n",
        "    if author != '@gracejasinthpriyadarsini2489':\n",
        "        continue\n",
        "    like_count = comment['snippet']['topLevelComment']['snippet'].get('likeCount')\n",
        "    text = comment['snippet']['topLevelComment']['snippet']['textDisplay']\n",
        "    print(like_count, text)\n",
        "    print()"
      ],
      "metadata": {
        "id": "s6L_7vo-BfP3"
      },
      "execution_count": null,
      "outputs": []
    },
    {
      "cell_type": "code",
      "source": [
        "# Dictionary to store the frequency of each comment text\n",
        "\n",
        "comment_frequency = {}\n",
        "\n",
        "for comment in COMMENTS:\n",
        "    if 'topLevelComment' in comment.get('snippet', {}):\n",
        "        author = comment['snippet']['topLevelComment']['snippet'].get('authorDisplayName')\n",
        "\n",
        "        if author == '@gracejasinthpriyadarsini2489':  # Check if the author's display name matches the desired name\n",
        "            text = comment['snippet']['topLevelComment']['snippet'].get('textDisplay')\n",
        "\n",
        "            comment_frequency[text] = comment_frequency.get(text, 0) + 1  # Increment the frequency count for the comment text\n",
        "\n",
        "# Print the repeated comments and their frequencies\n",
        "for text, frequency in comment_frequency.items():\n",
        "    if frequency > 1:\n",
        "        print(f'Comment: {text}\\nFrequency: {frequency}\\n')\n",
        "\n",
        "#Result: the user has commented \"My favourite speaker Jay genius l love his speech very much.\" 38 times\n",
        "#It is not even \"I love\" is \"l love\", raising suspiciousness.\n",
        "\n",
        "#As well, he has commmented different combinations of \"My favourite speaker Jay genius\" with other added things\n",
        "#and even the same amount of heart emojis.\n",
        "#With this info we could infer this user is a bot."
      ],
      "metadata": {
        "colab": {
          "base_uri": "https://localhost:8080/"
        },
        "id": "0zoZT2ceyCZ2",
        "outputId": "044366ca-b16c-42ff-dd77-7386047e207e"
      },
      "execution_count": 57,
      "outputs": [
        {
          "output_type": "stream",
          "name": "stdout",
          "text": [
            "Comment: Always best my favourite speaker Jay genius l love his speech very much.\n",
            "Frequency: 2\n",
            "\n",
            "Comment: Always my favourite speaker Jay genius l love his speech very much.\n",
            "Frequency: 4\n",
            "\n",
            "Comment: My favourite speaker Jay genius l love his speech very much.\n",
            "Frequency: 38\n",
            "\n",
            "Comment: ❤❤❤❤❤❤❤❤❤❤❤❤❤❤\n",
            "Frequency: 2\n",
            "\n",
            "Comment: My favourite speaker Jay genius l love all his programs very much.\n",
            "Frequency: 8\n",
            "\n",
            "Comment: Jay means always best.\n",
            "Frequency: 2\n",
            "\n",
            "Comment: My favourite speaker Jay genius l love his speech very much\n",
            "Frequency: 9\n",
            "\n",
            "Comment: My favourite speaker Jay genius\n",
            "Frequency: 13\n",
            "\n",
            "Comment: My favourite speaker Jay genius l love all his programs.\n",
            "Frequency: 2\n",
            "\n",
            "Comment: I love his speech very much my favourite speaker Jay genius.\n",
            "Frequency: 2\n",
            "\n",
            "Comment: My favourite speaker Jay genius.\n",
            "Frequency: 3\n",
            "\n",
            "Comment: Awesome conversation.\n",
            "Frequency: 2\n",
            "\n",
            "Comment: Awesome speech l love\n",
            "Frequency: 2\n",
            "\n",
            "Comment: My favorite speaker Jay genius\n",
            "Frequency: 5\n",
            "\n"
          ]
        }
      ]
    },
    {
      "cell_type": "markdown",
      "source": [
        "# Getting the amount of bots in this youtube channel"
      ],
      "metadata": {
        "id": "qRdZlNnr4Emw"
      }
    },
    {
      "cell_type": "code",
      "source": [
        "d =commenters_by_comment_count.most_common(5)\n",
        "d[1][0]"
      ],
      "metadata": {
        "colab": {
          "base_uri": "https://localhost:8080/",
          "height": 36
        },
        "id": "j-PPRyMnS5lH",
        "outputId": "051e0179-6ab3-4870-e88a-3bb237631891"
      },
      "execution_count": 96,
      "outputs": [
        {
          "output_type": "execute_result",
          "data": {
            "text/plain": [
              "'@andreonline113'"
            ],
            "application/vnd.google.colaboratory.intrinsic+json": {
              "type": "string"
            }
          },
          "metadata": {},
          "execution_count": 96
        }
      ]
    },
    {
      "cell_type": "code",
      "source": [
        "author_comment_count = {}\n",
        "n_top = 5\n",
        "\n",
        "for commenter_idx in range(n_top):\n",
        "  commenter = commenters_by_comment_count.most_common(n_top)[commenter_idx][0] #Getting the top 5 authors of commmenters_by_comment_count\n",
        "  comment_text = Counter() #Initiating a counter for the comments of the current commenter\n",
        "\n",
        "  for comment in COMMENTS:\n",
        "    if 'topLevelComment' in comment.get('snippet', {}):\n",
        "      author = comment['snippet']['topLevelComment']['snippet'].get('authorDisplayName') #Getting the author\n",
        "\n",
        "      if author == commenter: #Check if author equals commenter\n",
        "        text = comment['snippet']['topLevelComment']['snippet'].get('textDisplay') #Obtaining comment text\n",
        "        comment_text[text] +=1 #Update counter frequency for that comment\n",
        "\n",
        "  author_comment_count[commenter] = comment_text #Save counter with commenters name"
      ],
      "metadata": {
        "id": "b43aYe-AC36A"
      },
      "execution_count": 97,
      "outputs": []
    },
    {
      "cell_type": "code",
      "source": [
        "crit_freq = 5 #Defining an abnormal frequency threshold of repeated comments\n",
        "\n",
        "#For each of the commenters analyzed check if the frequency of any of their comments is above the threshold defined\n",
        "#If so we infer they are bots\n",
        "for author in author_comment_count.keys():\n",
        "  for frequency in author_comment_count[author].values():\n",
        "    if frequency > crit_freq:\n",
        "      print(f'The user {author} is a bot')\n",
        "      break"
      ],
      "metadata": {
        "colab": {
          "base_uri": "https://localhost:8080/"
        },
        "id": "9XfY36OLLWTN",
        "outputId": "438f56d7-6cfe-4444-f520-775e9177292b"
      },
      "execution_count": 98,
      "outputs": [
        {
          "output_type": "stream",
          "name": "stdout",
          "text": [
            "The user @gracejasinthpriyadarsini2489 is a bot\n",
            "The user @andreonline113 is a bot\n",
            "The user @AhmetKaan is a bot\n"
          ]
        }
      ]
    },
    {
      "cell_type": "markdown",
      "source": [
        "Conclusion: We can infer that the Jay Shetty Podcast has at least 3 bots commenting the same text repeatedly in the videos, as normal users do not comment the same text over and over again.  \n"
      ],
      "metadata": {
        "id": "tEPxvv2SPZPN"
      }
    },
    {
      "cell_type": "markdown",
      "source": [
        "# Compulsory element 3: TOPICS of the Jay Shetty Channel"
      ],
      "metadata": {
        "id": "fx65kowZw0LI"
      }
    },
    {
      "cell_type": "code",
      "source": [
        "\"https://en.wikipedia.org/wiki/Knowledge\".split('/')"
      ],
      "metadata": {
        "colab": {
          "base_uri": "https://localhost:8080/"
        },
        "id": "O4BW3tiXwvem",
        "outputId": "dcfd2a9c-d23a-416f-9ebd-537cb6aaa338"
      },
      "execution_count": 99,
      "outputs": [
        {
          "output_type": "execute_result",
          "data": {
            "text/plain": [
              "['https:', '', 'en.wikipedia.org', 'wiki', 'Knowledge']"
            ]
          },
          "metadata": {},
          "execution_count": 99
        }
      ]
    },
    {
      "cell_type": "code",
      "source": [
        "\"https://en.wikipedia.org/wiki/Knowledge\".split('/')[-1]"
      ],
      "metadata": {
        "colab": {
          "base_uri": "https://localhost:8080/",
          "height": 36
        },
        "id": "nATUjme_w-kq",
        "outputId": "4f8b0938-8d83-4076-b9d6-2f026776c55b"
      },
      "execution_count": 100,
      "outputs": [
        {
          "output_type": "execute_result",
          "data": {
            "text/plain": [
              "'Knowledge'"
            ],
            "application/vnd.google.colaboratory.intrinsic+json": {
              "type": "string"
            }
          },
          "metadata": {},
          "execution_count": 100
        }
      ]
    },
    {
      "cell_type": "code",
      "source": [
        "# Let's investigate video topics\n",
        "from collections import Counter\n",
        "\n",
        "topic_counts = Counter()\n",
        "\n",
        "for video in ENRICHED_VIDEOS:\n",
        "    topics = video.get(\"topicDetails\", {}).get(\"topicCategories\", [])\n",
        "\n",
        "    for topic in topics:\n",
        "        topic_counts[topic.split('/')[-1]] += 1\n",
        "\n",
        "topic_counts.most_common() #The majority of videos on the channel are about entertainment, lifestyle, health, and \"society\"."
      ],
      "metadata": {
        "colab": {
          "base_uri": "https://localhost:8080/"
        },
        "id": "STkX3IVCw_B8",
        "outputId": "3d3cde5e-b3bb-4968-b1de-983da0f6443a"
      },
      "execution_count": 101,
      "outputs": [
        {
          "output_type": "execute_result",
          "data": {
            "text/plain": [
              "[('Entertainment', 159),\n",
              " ('Lifestyle_(sociology)', 154),\n",
              " ('Health', 134),\n",
              " ('Society', 107),\n",
              " ('Religion', 26),\n",
              " ('Politics', 12),\n",
              " ('Music', 8),\n",
              " ('Television_program', 6),\n",
              " ('Humour', 5),\n",
              " ('Sport', 5),\n",
              " ('Basketball', 4),\n",
              " ('Knowledge', 4),\n",
              " ('Tennis', 3),\n",
              " ('Business', 3),\n",
              " ('Hip_hop_music', 2),\n",
              " ('Pop_music', 2),\n",
              " ('Hobby', 2),\n",
              " ('Physical_fitness', 2),\n",
              " ('Technology', 1),\n",
              " ('Vehicle', 1)]"
            ]
          },
          "metadata": {},
          "execution_count": 101
        }
      ]
    }
  ]
}